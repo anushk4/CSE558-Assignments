{
 "cells": [
  {
   "cell_type": "code",
   "execution_count": 60,
   "metadata": {},
   "outputs": [],
   "source": [
    "import pandas as pd \n",
    "import numpy as np\n",
    "import matplotlib.pyplot as plt\n",
    "import seaborn as sns\n",
    "from sklearn.preprocessing import OneHotEncoder\n",
    "from scipy.stats import pearsonr, t"
   ]
  },
  {
   "cell_type": "code",
   "execution_count": 61,
   "metadata": {},
   "outputs": [
    {
     "data": {
      "text/html": [
       "<div>\n",
       "<style scoped>\n",
       "    .dataframe tbody tr th:only-of-type {\n",
       "        vertical-align: middle;\n",
       "    }\n",
       "\n",
       "    .dataframe tbody tr th {\n",
       "        vertical-align: top;\n",
       "    }\n",
       "\n",
       "    .dataframe thead th {\n",
       "        text-align: right;\n",
       "    }\n",
       "</style>\n",
       "<table border=\"1\" class=\"dataframe\">\n",
       "  <thead>\n",
       "    <tr style=\"text-align: right;\">\n",
       "      <th></th>\n",
       "      <th>mpg</th>\n",
       "      <th>cylinders</th>\n",
       "      <th>displacement</th>\n",
       "      <th>horsepower</th>\n",
       "      <th>weight</th>\n",
       "      <th>acceleration</th>\n",
       "      <th>model year</th>\n",
       "      <th>origin</th>\n",
       "    </tr>\n",
       "  </thead>\n",
       "  <tbody>\n",
       "    <tr>\n",
       "      <th>0</th>\n",
       "      <td>18.0</td>\n",
       "      <td>8</td>\n",
       "      <td>307.0</td>\n",
       "      <td>130</td>\n",
       "      <td>3504.0</td>\n",
       "      <td>12.0</td>\n",
       "      <td>70.0</td>\n",
       "      <td>1.0</td>\n",
       "    </tr>\n",
       "    <tr>\n",
       "      <th>1</th>\n",
       "      <td>15.0</td>\n",
       "      <td>8</td>\n",
       "      <td>350.0</td>\n",
       "      <td>165</td>\n",
       "      <td>3693.0</td>\n",
       "      <td>11.5</td>\n",
       "      <td>70.0</td>\n",
       "      <td>1.0</td>\n",
       "    </tr>\n",
       "    <tr>\n",
       "      <th>2</th>\n",
       "      <td>18.0</td>\n",
       "      <td>8</td>\n",
       "      <td>318.0</td>\n",
       "      <td>150</td>\n",
       "      <td>3436.0</td>\n",
       "      <td>11.0</td>\n",
       "      <td>70.0</td>\n",
       "      <td>1.0</td>\n",
       "    </tr>\n",
       "    <tr>\n",
       "      <th>3</th>\n",
       "      <td>16.0</td>\n",
       "      <td>8</td>\n",
       "      <td>304.0</td>\n",
       "      <td>150</td>\n",
       "      <td>3433.0</td>\n",
       "      <td>12.0</td>\n",
       "      <td>70.0</td>\n",
       "      <td>1.0</td>\n",
       "    </tr>\n",
       "    <tr>\n",
       "      <th>4</th>\n",
       "      <td>17.0</td>\n",
       "      <td>8</td>\n",
       "      <td>302.0</td>\n",
       "      <td>140</td>\n",
       "      <td>3449.0</td>\n",
       "      <td>10.5</td>\n",
       "      <td>70.0</td>\n",
       "      <td>1.0</td>\n",
       "    </tr>\n",
       "  </tbody>\n",
       "</table>\n",
       "</div>"
      ],
      "text/plain": [
       "    mpg  cylinders  displacement  horsepower  weight  acceleration  \\\n",
       "0  18.0          8         307.0         130  3504.0          12.0   \n",
       "1  15.0          8         350.0         165  3693.0          11.5   \n",
       "2  18.0          8         318.0         150  3436.0          11.0   \n",
       "3  16.0          8         304.0         150  3433.0          12.0   \n",
       "4  17.0          8         302.0         140  3449.0          10.5   \n",
       "\n",
       "   model year  origin  \n",
       "0        70.0     1.0  \n",
       "1        70.0     1.0  \n",
       "2        70.0     1.0  \n",
       "3        70.0     1.0  \n",
       "4        70.0     1.0  "
      ]
     },
     "execution_count": 61,
     "metadata": {},
     "output_type": "execute_result"
    }
   ],
   "source": [
    "df = pd.read_csv('./Datasets/Auto MPG.csv')\n",
    "# Converting horsepower column to numeric value\n",
    "df = df.replace('?', np.nan)\n",
    "df = df.dropna()\n",
    "df['horsepower'] = pd.to_numeric(df['horsepower'])\n",
    "df.head()"
   ]
  },
  {
   "cell_type": "code",
   "execution_count": 62,
   "metadata": {},
   "outputs": [
    {
     "data": {
      "text/plain": [
       "(392, 8)"
      ]
     },
     "execution_count": 62,
     "metadata": {},
     "output_type": "execute_result"
    }
   ],
   "source": [
    "df.shape"
   ]
  },
  {
   "cell_type": "markdown",
   "metadata": {},
   "source": [
    "a. For discrete attributes, apply a one-hot encoding, and for non numeric ordinal\n",
    "attributes, apply integer mapping. Handle outliers/noise and save this in a file."
   ]
  },
  {
   "cell_type": "code",
   "execution_count": 63,
   "metadata": {},
   "outputs": [
    {
     "name": "stderr",
     "output_type": "stream",
     "text": [
      "c:\\Users\\ASUS\\anaconda3\\Lib\\site-packages\\sklearn\\preprocessing\\_encoders.py:972: FutureWarning: `sparse` was renamed to `sparse_output` in version 1.2 and will be removed in 1.4. `sparse_output` is ignored unless you leave `sparse` to its default value.\n",
      "  warnings.warn(\n"
     ]
    }
   ],
   "source": [
    "discrete_columns = ['origin','cylinders']\n",
    "onehotencoding = OneHotEncoder(drop='first',sparse=False)\n",
    "encoded = pd.DataFrame(onehotencoding.fit_transform(df[discrete_columns]))"
   ]
  },
  {
   "cell_type": "code",
   "execution_count": 64,
   "metadata": {},
   "outputs": [
    {
     "name": "stdout",
     "output_type": "stream",
     "text": [
      "<class 'pandas.core.frame.DataFrame'>\n",
      "Index: 392 entries, 0 to 397\n",
      "Data columns (total 8 columns):\n",
      " #   Column        Non-Null Count  Dtype  \n",
      "---  ------        --------------  -----  \n",
      " 0   mpg           392 non-null    float64\n",
      " 1   cylinders     392 non-null    int64  \n",
      " 2   displacement  392 non-null    float64\n",
      " 3   horsepower    392 non-null    int64  \n",
      " 4   weight        392 non-null    float64\n",
      " 5   acceleration  392 non-null    float64\n",
      " 6   model year    392 non-null    float64\n",
      " 7   origin        392 non-null    float64\n",
      "dtypes: float64(6), int64(2)\n",
      "memory usage: 27.6 KB\n"
     ]
    }
   ],
   "source": [
    "df.info()"
   ]
  },
  {
   "cell_type": "markdown",
   "metadata": {},
   "source": [
    "There are no non-numeric attributes in the data and hence, we skip the integer mapping."
   ]
  },
  {
   "cell_type": "code",
   "execution_count": 65,
   "metadata": {},
   "outputs": [],
   "source": [
    "outliers_idx = set()"
   ]
  },
  {
   "cell_type": "code",
   "execution_count": 66,
   "metadata": {},
   "outputs": [],
   "source": [
    "outlier_cols = []"
   ]
  },
  {
   "cell_type": "code",
   "execution_count": 67,
   "metadata": {},
   "outputs": [
    {
     "name": "stdout",
     "output_type": "stream",
     "text": [
      "No of outliers in horsepower is 10\n",
      "No of outliers in weight is 1\n",
      "No of outliers in acceleration is 11\n",
      "No of outliers in model year is 1\n"
     ]
    }
   ],
   "source": [
    "# If a value lies outside of the normal distribution of the data, then it is classified as an outlier\n",
    "for column in df.columns:\n",
    "    Q1 = df[column].quantile(0.25)\n",
    "    Q3 = df[column].quantile(0.75)\n",
    "    IQR = Q3 - Q1\n",
    "    lower_bound = Q1 - 1.5 * IQR\n",
    "    upper_bound = Q3 + 1.5 * IQR\n",
    "    outliers = df[(df[column] < lower_bound) | (df[column] > upper_bound)]\n",
    "    if outliers.size != 0:\n",
    "        outliers_idx.update(outliers.index.tolist())\n",
    "        outlier_cols.append(column)\n",
    "        print(f\"No of outliers in {column} is {outliers.shape[0]}\")"
   ]
  },
  {
   "cell_type": "code",
   "execution_count": 68,
   "metadata": {},
   "outputs": [
    {
     "data": {
      "image/png": "[encoded data removed]",
      "text/plain": [
       "<Figure size 1200x1000 with 4 Axes>"
      ]
     },
     "metadata": {},
     "output_type": "display_data"
    }
   ],
   "source": [
    "# Visualizing the outliers using boxplot\n",
    "fig, axes = plt.subplots(2, 2, figsize=(12, 10))\n",
    "\n",
    "axes = axes.flatten()\n",
    "\n",
    "for i, feature in enumerate(outlier_cols):\n",
    "    sns.boxplot(x=feature, data=df, ax=axes[i])\n",
    "    axes[i].set_title(f'Boxplot of {feature}')\n",
    "\n",
    "plt.tight_layout()\n",
    "plt.savefig('./plots/outliers.png')\n",
    "plt.show()"
   ]
  },
  {
   "cell_type": "code",
   "execution_count": 69,
   "metadata": {},
   "outputs": [
    {
     "name": "stdout",
     "output_type": "stream",
     "text": [
      "Dropped 22 outlier rows.\n"
     ]
    }
   ],
   "source": [
    "# Dropping the outlier index from the data\n",
    "if outliers_idx:\n",
    "    df = df.drop(outliers_idx)\n",
    "    print(f\"Dropped {len(outliers_idx)} outlier rows.\")\n",
    "else:\n",
    "    print(\"No outliers found.\")\n",
    "df.reset_index(drop=True, inplace=True)"
   ]
  },
  {
   "cell_type": "code",
   "execution_count": 70,
   "metadata": {},
   "outputs": [
    {
     "data": {
      "text/plain": [
       "(370, 8)"
      ]
     },
     "execution_count": 70,
     "metadata": {},
     "output_type": "execute_result"
    }
   ],
   "source": [
    "df.shape"
   ]
  },
  {
   "cell_type": "code",
   "execution_count": 71,
   "metadata": {},
   "outputs": [
    {
     "name": "stdout",
     "output_type": "stream",
     "text": [
      "Updated data saved\n"
     ]
    }
   ],
   "source": [
    "df.to_csv('./Datasets/cleaned_MPG.csv',index=False)\n",
    "print(\"Updated data saved\")"
   ]
  },
  {
   "cell_type": "markdown",
   "metadata": {},
   "source": [
    "b. Use the file you have saved in (a) and compute the mean  ̄x and variance σ2 of the data in it."
   ]
  },
  {
   "cell_type": "code",
   "execution_count": 72,
   "metadata": {},
   "outputs": [],
   "source": [
    "def mean_of_data(column):\n",
    "    total = 0\n",
    "    for i in column:\n",
    "        total += i\n",
    "    return total/len(column)\n",
    "\n",
    "def variance_of_data(column):\n",
    "    mean = mean_of_data(column)\n",
    "    total = 0\n",
    "    for i in column:\n",
    "        total += (i - mean)**2\n",
    "    return total/len(column)"
   ]
  },
  {
   "cell_type": "code",
   "execution_count": 73,
   "metadata": {},
   "outputs": [],
   "source": [
    "df = pd.read_csv('./Datasets/cleaned_MPG.csv')"
   ]
  },
  {
   "cell_type": "code",
   "execution_count": 74,
   "metadata": {},
   "outputs": [
    {
     "name": "stdout",
     "output_type": "stream",
     "text": [
      "Mean of mpg is 23.612702702702705\n",
      "Variance of mpg is 58.109108911614285\n",
      "\n",
      "Mean of cylinders is 5.418918918918919\n",
      "Variance of cylinders is 2.7947772096420787\n",
      "\n",
      "Mean of displacement is 189.45810810810812\n",
      "Variance of displacement is 9721.307028853184\n",
      "\n",
      "Mean of horsepower is 102.03513513513514\n",
      "Variance of horsepower is 1131.5906574141727\n",
      "\n",
      "Mean of weight is 2948.6486486486488\n",
      "Variance of weight is 685624.9089846608\n",
      "\n",
      "Mean of acceleration is 15.549189189189175\n",
      "Variance of acceleration is 5.783688531775025\n",
      "\n",
      "Mean of model year is 76.11351351351351\n",
      "Variance of model year is 13.089817384952534\n",
      "\n",
      "Mean of origin is 1.5945945945945945\n",
      "Variance of origin is 0.6680788897005152\n",
      "\n"
     ]
    }
   ],
   "source": [
    "for column in df.columns:\n",
    "    print(f\"Mean of {column} is {mean_of_data(df[column])}\")\n",
    "    print(f\"Variance of {column} is {variance_of_data(df[column])}\")\n",
    "    print()\n"
   ]
  },
  {
   "cell_type": "code",
   "execution_count": 75,
   "metadata": {},
   "outputs": [
    {
     "data": {
      "text/html": [
       "<div>\n",
       "<style scoped>\n",
       "    .dataframe tbody tr th:only-of-type {\n",
       "        vertical-align: middle;\n",
       "    }\n",
       "\n",
       "    .dataframe tbody tr th {\n",
       "        vertical-align: top;\n",
       "    }\n",
       "\n",
       "    .dataframe thead th {\n",
       "        text-align: right;\n",
       "    }\n",
       "</style>\n",
       "<table border=\"1\" class=\"dataframe\">\n",
       "  <thead>\n",
       "    <tr style=\"text-align: right;\">\n",
       "      <th></th>\n",
       "      <th>mpg</th>\n",
       "      <th>cylinders</th>\n",
       "      <th>displacement</th>\n",
       "      <th>horsepower</th>\n",
       "      <th>weight</th>\n",
       "      <th>acceleration</th>\n",
       "      <th>model year</th>\n",
       "      <th>origin</th>\n",
       "    </tr>\n",
       "  </thead>\n",
       "  <tbody>\n",
       "    <tr>\n",
       "      <th>count</th>\n",
       "      <td>370.000000</td>\n",
       "      <td>370.000000</td>\n",
       "      <td>370.000000</td>\n",
       "      <td>370.000000</td>\n",
       "      <td>370.000000</td>\n",
       "      <td>370.000000</td>\n",
       "      <td>370.000000</td>\n",
       "      <td>370.000000</td>\n",
       "    </tr>\n",
       "    <tr>\n",
       "      <th>mean</th>\n",
       "      <td>23.612703</td>\n",
       "      <td>5.418919</td>\n",
       "      <td>189.458108</td>\n",
       "      <td>102.035135</td>\n",
       "      <td>2948.648649</td>\n",
       "      <td>15.549189</td>\n",
       "      <td>76.113514</td>\n",
       "      <td>1.594595</td>\n",
       "    </tr>\n",
       "    <tr>\n",
       "      <th>std</th>\n",
       "      <td>7.633255</td>\n",
       "      <td>1.674022</td>\n",
       "      <td>98.730198</td>\n",
       "      <td>33.684675</td>\n",
       "      <td>829.145929</td>\n",
       "      <td>2.408187</td>\n",
       "      <td>3.622884</td>\n",
       "      <td>0.818468</td>\n",
       "    </tr>\n",
       "    <tr>\n",
       "      <th>min</th>\n",
       "      <td>9.000000</td>\n",
       "      <td>3.000000</td>\n",
       "      <td>68.000000</td>\n",
       "      <td>46.000000</td>\n",
       "      <td>1613.000000</td>\n",
       "      <td>9.500000</td>\n",
       "      <td>70.000000</td>\n",
       "      <td>1.000000</td>\n",
       "    </tr>\n",
       "    <tr>\n",
       "      <th>25%</th>\n",
       "      <td>17.600000</td>\n",
       "      <td>4.000000</td>\n",
       "      <td>105.000000</td>\n",
       "      <td>76.000000</td>\n",
       "      <td>2223.750000</td>\n",
       "      <td>14.000000</td>\n",
       "      <td>73.000000</td>\n",
       "      <td>1.000000</td>\n",
       "    </tr>\n",
       "    <tr>\n",
       "      <th>50%</th>\n",
       "      <td>23.000000</td>\n",
       "      <td>4.000000</td>\n",
       "      <td>146.000000</td>\n",
       "      <td>92.500000</td>\n",
       "      <td>2781.500000</td>\n",
       "      <td>15.500000</td>\n",
       "      <td>76.000000</td>\n",
       "      <td>1.000000</td>\n",
       "    </tr>\n",
       "    <tr>\n",
       "      <th>75%</th>\n",
       "      <td>29.000000</td>\n",
       "      <td>6.000000</td>\n",
       "      <td>258.000000</td>\n",
       "      <td>120.000000</td>\n",
       "      <td>3556.000000</td>\n",
       "      <td>17.000000</td>\n",
       "      <td>79.000000</td>\n",
       "      <td>2.000000</td>\n",
       "    </tr>\n",
       "    <tr>\n",
       "      <th>max</th>\n",
       "      <td>46.600000</td>\n",
       "      <td>8.000000</td>\n",
       "      <td>429.000000</td>\n",
       "      <td>200.000000</td>\n",
       "      <td>5140.000000</td>\n",
       "      <td>21.800000</td>\n",
       "      <td>82.000000</td>\n",
       "      <td>3.000000</td>\n",
       "    </tr>\n",
       "  </tbody>\n",
       "</table>\n",
       "</div>"
      ],
      "text/plain": [
       "              mpg   cylinders  displacement  horsepower       weight  \\\n",
       "count  370.000000  370.000000    370.000000  370.000000   370.000000   \n",
       "mean    23.612703    5.418919    189.458108  102.035135  2948.648649   \n",
       "std      7.633255    1.674022     98.730198   33.684675   829.145929   \n",
       "min      9.000000    3.000000     68.000000   46.000000  1613.000000   \n",
       "25%     17.600000    4.000000    105.000000   76.000000  2223.750000   \n",
       "50%     23.000000    4.000000    146.000000   92.500000  2781.500000   \n",
       "75%     29.000000    6.000000    258.000000  120.000000  3556.000000   \n",
       "max     46.600000    8.000000    429.000000  200.000000  5140.000000   \n",
       "\n",
       "       acceleration  model year      origin  \n",
       "count    370.000000  370.000000  370.000000  \n",
       "mean      15.549189   76.113514    1.594595  \n",
       "std        2.408187    3.622884    0.818468  \n",
       "min        9.500000   70.000000    1.000000  \n",
       "25%       14.000000   73.000000    1.000000  \n",
       "50%       15.500000   76.000000    1.000000  \n",
       "75%       17.000000   79.000000    2.000000  \n",
       "max       21.800000   82.000000    3.000000  "
      ]
     },
     "execution_count": 75,
     "metadata": {},
     "output_type": "execute_result"
    }
   ],
   "source": [
    "# Verifying our output\n",
    "df.describe()"
   ]
  },
  {
   "cell_type": "markdown",
   "metadata": {},
   "source": [
    "c. Normalize each feature of the saved data with its mean and variance. Now compute the variance of the normalized data."
   ]
  },
  {
   "cell_type": "code",
   "execution_count": 76,
   "metadata": {},
   "outputs": [],
   "source": [
    "def normalize_feature():\n",
    "    for column in df.columns:\n",
    "        mean = mean_of_data(df[column])\n",
    "        variance = variance_of_data(df[column])\n",
    "        standard_dev = variance**0.5\n",
    "        df[column] = (df[column] - mean) / standard_dev"
   ]
  },
  {
   "cell_type": "code",
   "execution_count": 77,
   "metadata": {},
   "outputs": [],
   "source": [
    "normalize_feature()"
   ]
  },
  {
   "cell_type": "code",
   "execution_count": 78,
   "metadata": {},
   "outputs": [
    {
     "name": "stdout",
     "output_type": "stream",
     "text": [
      "Variance of mpg is 1.0000000000000004\n",
      "\n",
      "Variance of cylinders is 1.000000000000005\n",
      "\n",
      "Variance of displacement is 0.9999999999999983\n",
      "\n",
      "Variance of horsepower is 0.9999999999999996\n",
      "\n",
      "Variance of weight is 0.9999999999999996\n",
      "\n",
      "Variance of acceleration is 0.9999999999999993\n",
      "\n",
      "Variance of model year is 0.9999999999999993\n",
      "\n",
      "Variance of origin is 0.9999999999999941\n",
      "\n"
     ]
    }
   ],
   "source": [
    "for column in df.columns:\n",
    "    print(f\"Variance of {column} is {variance_of_data(df[column])}\")\n",
    "    print()"
   ]
  },
  {
   "cell_type": "code",
   "execution_count": 79,
   "metadata": {},
   "outputs": [
    {
     "data": {
      "text/html": [
       "<div>\n",
       "<style scoped>\n",
       "    .dataframe tbody tr th:only-of-type {\n",
       "        vertical-align: middle;\n",
       "    }\n",
       "\n",
       "    .dataframe tbody tr th {\n",
       "        vertical-align: top;\n",
       "    }\n",
       "\n",
       "    .dataframe thead th {\n",
       "        text-align: right;\n",
       "    }\n",
       "</style>\n",
       "<table border=\"1\" class=\"dataframe\">\n",
       "  <thead>\n",
       "    <tr style=\"text-align: right;\">\n",
       "      <th></th>\n",
       "      <th>mpg</th>\n",
       "      <th>cylinders</th>\n",
       "      <th>displacement</th>\n",
       "      <th>horsepower</th>\n",
       "      <th>weight</th>\n",
       "      <th>acceleration</th>\n",
       "      <th>model year</th>\n",
       "      <th>origin</th>\n",
       "    </tr>\n",
       "  </thead>\n",
       "  <tbody>\n",
       "    <tr>\n",
       "      <th>count</th>\n",
       "      <td>3.700000e+02</td>\n",
       "      <td>3.700000e+02</td>\n",
       "      <td>3.700000e+02</td>\n",
       "      <td>370.000000</td>\n",
       "      <td>3.700000e+02</td>\n",
       "      <td>3.700000e+02</td>\n",
       "      <td>3.700000e+02</td>\n",
       "      <td>3.700000e+02</td>\n",
       "    </tr>\n",
       "    <tr>\n",
       "      <th>mean</th>\n",
       "      <td>-3.456694e-16</td>\n",
       "      <td>-3.072617e-16</td>\n",
       "      <td>-1.344270e-16</td>\n",
       "      <td>0.000000</td>\n",
       "      <td>-1.536309e-16</td>\n",
       "      <td>6.010807e-15</td>\n",
       "      <td>9.217852e-16</td>\n",
       "      <td>1.248251e-16</td>\n",
       "    </tr>\n",
       "    <tr>\n",
       "      <th>std</th>\n",
       "      <td>1.001354e+00</td>\n",
       "      <td>1.001354e+00</td>\n",
       "      <td>1.001354e+00</td>\n",
       "      <td>1.001354</td>\n",
       "      <td>1.001354e+00</td>\n",
       "      <td>1.001354e+00</td>\n",
       "      <td>1.001354e+00</td>\n",
       "      <td>1.001354e+00</td>\n",
       "    </tr>\n",
       "    <tr>\n",
       "      <th>min</th>\n",
       "      <td>-1.916940e+00</td>\n",
       "      <td>-1.446931e+00</td>\n",
       "      <td>-1.231868e+00</td>\n",
       "      <td>-1.665773</td>\n",
       "      <td>-1.613054e+00</td>\n",
       "      <td>-2.515329e+00</td>\n",
       "      <td>-1.689756e+00</td>\n",
       "      <td>-7.274566e-01</td>\n",
       "    </tr>\n",
       "    <tr>\n",
       "      <th>25%</th>\n",
       "      <td>-7.887650e-01</td>\n",
       "      <td>-8.487582e-01</td>\n",
       "      <td>-8.566019e-01</td>\n",
       "      <td>-0.773954</td>\n",
       "      <td>-8.754553e-01</td>\n",
       "      <td>-6.441722e-01</td>\n",
       "      <td>-8.605656e-01</td>\n",
       "      <td>-7.274566e-01</td>\n",
       "    </tr>\n",
       "    <tr>\n",
       "      <th>50%</th>\n",
       "      <td>-8.037624e-02</td>\n",
       "      <td>-8.487582e-01</td>\n",
       "      <td>-4.407664e-01</td>\n",
       "      <td>-0.283454</td>\n",
       "      <td>-2.018643e-01</td>\n",
       "      <td>-2.045348e-02</td>\n",
       "      <td>-3.137479e-02</td>\n",
       "      <td>-7.274566e-01</td>\n",
       "    </tr>\n",
       "    <tr>\n",
       "      <th>75%</th>\n",
       "      <td>7.067224e-01</td>\n",
       "      <td>3.475867e-01</td>\n",
       "      <td>6.951744e-01</td>\n",
       "      <td>0.534047</td>\n",
       "      <td>7.334942e-01</td>\n",
       "      <td>6.032653e-01</td>\n",
       "      <td>7.978160e-01</td>\n",
       "      <td>4.959931e-01</td>\n",
       "    </tr>\n",
       "    <tr>\n",
       "      <th>max</th>\n",
       "      <td>3.015545e+00</td>\n",
       "      <td>1.543932e+00</td>\n",
       "      <td>2.429513e+00</td>\n",
       "      <td>2.912230</td>\n",
       "      <td>2.646481e+00</td>\n",
       "      <td>2.599165e+00</td>\n",
       "      <td>1.627007e+00</td>\n",
       "      <td>1.719443e+00</td>\n",
       "    </tr>\n",
       "  </tbody>\n",
       "</table>\n",
       "</div>"
      ],
      "text/plain": [
       "                mpg     cylinders  displacement  horsepower        weight  \\\n",
       "count  3.700000e+02  3.700000e+02  3.700000e+02  370.000000  3.700000e+02   \n",
       "mean  -3.456694e-16 -3.072617e-16 -1.344270e-16    0.000000 -1.536309e-16   \n",
       "std    1.001354e+00  1.001354e+00  1.001354e+00    1.001354  1.001354e+00   \n",
       "min   -1.916940e+00 -1.446931e+00 -1.231868e+00   -1.665773 -1.613054e+00   \n",
       "25%   -7.887650e-01 -8.487582e-01 -8.566019e-01   -0.773954 -8.754553e-01   \n",
       "50%   -8.037624e-02 -8.487582e-01 -4.407664e-01   -0.283454 -2.018643e-01   \n",
       "75%    7.067224e-01  3.475867e-01  6.951744e-01    0.534047  7.334942e-01   \n",
       "max    3.015545e+00  1.543932e+00  2.429513e+00    2.912230  2.646481e+00   \n",
       "\n",
       "       acceleration    model year        origin  \n",
       "count  3.700000e+02  3.700000e+02  3.700000e+02  \n",
       "mean   6.010807e-15  9.217852e-16  1.248251e-16  \n",
       "std    1.001354e+00  1.001354e+00  1.001354e+00  \n",
       "min   -2.515329e+00 -1.689756e+00 -7.274566e-01  \n",
       "25%   -6.441722e-01 -8.605656e-01 -7.274566e-01  \n",
       "50%   -2.045348e-02 -3.137479e-02 -7.274566e-01  \n",
       "75%    6.032653e-01  7.978160e-01  4.959931e-01  \n",
       "max    2.599165e+00  1.627007e+00  1.719443e+00  "
      ]
     },
     "execution_count": 79,
     "metadata": {},
     "output_type": "execute_result"
    }
   ],
   "source": [
    "# Verifying the output\n",
    "df.describe()"
   ]
  },
  {
   "cell_type": "markdown",
   "metadata": {},
   "source": [
    "d. In the given dataset, with a 5% level of significance, test if the number model year has any effect on the number of cylinders."
   ]
  },
  {
   "cell_type": "markdown",
   "metadata": {},
   "source": [
    "We define our hypothesis as follows: <br>\n",
    "- H0: There is no significant correlation<br>\n",
    "- H1: There is significant correlation between the features"
   ]
  },
  {
   "cell_type": "code",
   "execution_count": 80,
   "metadata": {},
   "outputs": [],
   "source": [
    "df = pd.read_csv('./Datasets/cleaned_MPG.csv')"
   ]
  },
  {
   "cell_type": "code",
   "execution_count": 81,
   "metadata": {},
   "outputs": [
    {
     "name": "stdout",
     "output_type": "stream",
     "text": [
      "Pearson correlation: -0.30769574790499443\n",
      "P-value: 1.485599280014524e-09\n",
      "Reject the null hypothesis: Significant correlation.\n"
     ]
    }
   ],
   "source": [
    "# Using inbuilt libraries\n",
    "model_year = df['model year']\n",
    "num_cylinders = df['cylinders']\n",
    "correlation, p_value = pearsonr(model_year, num_cylinders)\n",
    "print(f\"Pearson correlation: {correlation}\")\n",
    "print(f\"P-value: {p_value}\")\n",
    "if p_value < 0.05:\n",
    "    print(\"Reject the null hypothesis: Significant correlation.\")\n",
    "else:\n",
    "    print(\"Fail to reject the null hypothesis: No significant correlation.\")"
   ]
  },
  {
   "cell_type": "code",
   "execution_count": 82,
   "metadata": {},
   "outputs": [
    {
     "name": "stdout",
     "output_type": "stream",
     "text": [
      "The value of t is -6.203596592141491\n"
     ]
    }
   ],
   "source": [
    "# From scratch\n",
    "alpha = 0.05\n",
    "n = df.shape[0]\n",
    "r = np.corrcoef(df[\"model year\"], df[\"cylinders\"])[0, 1]\n",
    "t_value = r / np.sqrt((1 - r**2) / (n - 2))\n",
    "print(\"The value of t is\", t_value)"
   ]
  },
  {
   "cell_type": "code",
   "execution_count": 83,
   "metadata": {},
   "outputs": [
    {
     "name": "stdout",
     "output_type": "stream",
     "text": [
      "The critical value is: 1.966\n"
     ]
    }
   ],
   "source": [
    "degrees = n-2\n",
    "\n",
    "critical_value = t.ppf(1 - alpha/2, degrees)\n",
    "\n",
    "# Print the critical value\n",
    "print(f\"The critical value is: {critical_value:.3f}\")"
   ]
  },
  {
   "cell_type": "code",
   "execution_count": 84,
   "metadata": {},
   "outputs": [
    {
     "name": "stdout",
     "output_type": "stream",
     "text": [
      "Reject the null hypothesis: Significant correlation.\n"
     ]
    }
   ],
   "source": [
    "if (t_value < critical_value):\n",
    "    print(\"Reject the null hypothesis: Significant correlation.\")\n",
    "else:\n",
    "    print(\"Fail to reject the null hypothesis: No significant correlation.\")"
   ]
  }
 ],
 "metadata": {
  "kernelspec": {
   "display_name": "base",
   "language": "python",
   "name": "python3"
  },
  "language_info": {
   "codemirror_mode": {
    "name": "ipython",
    "version": 3
   },
   "file_extension": ".py",
   "mimetype": "text/x-python",
   "name": "python",
   "nbconvert_exporter": "python",
   "pygments_lexer": "ipython3",
   "version": "3.11.5"
  }
 },
 "nbformat": 4,
 "nbformat_minor": 2
}
