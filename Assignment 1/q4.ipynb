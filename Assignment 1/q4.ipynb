{
 "cells": [
  {
   "cell_type": "code",
   "execution_count": 28,
   "metadata": {},
   "outputs": [],
   "source": [
    "import pandas as pd\n",
    "import numpy as np\n",
    "from scipy.stats import t, pearsonr\n",
    "from scipy.stats import chisquare, poisson \n",
    "import pandas as pd\n",
    "from scipy.stats import poisson, chisquare\n",
    "import pandas as pd\n",
    "from scipy.stats import poisson,chi2\n",
    "import numpy as np\n",
    "import pandas as pd\n",
    "import statsmodels.api as sm\n",
    "from statsmodels.formula.api import ols"
   ]
  },
  {
   "cell_type": "markdown",
   "metadata": {},
   "source": [
    "#### Data Preprocessing"
   ]
  },
  {
   "cell_type": "code",
   "execution_count": 29,
   "metadata": {},
   "outputs": [
    {
     "data": {
      "text/html": [
       "<div>\n",
       "<style scoped>\n",
       "    .dataframe tbody tr th:only-of-type {\n",
       "        vertical-align: middle;\n",
       "    }\n",
       "\n",
       "    .dataframe tbody tr th {\n",
       "        vertical-align: top;\n",
       "    }\n",
       "\n",
       "    .dataframe thead th {\n",
       "        text-align: right;\n",
       "    }\n",
       "</style>\n",
       "<table border=\"1\" class=\"dataframe\">\n",
       "  <thead>\n",
       "    <tr style=\"text-align: right;\">\n",
       "      <th></th>\n",
       "      <th>Name</th>\n",
       "      <th>Season</th>\n",
       "      <th>Month</th>\n",
       "      <th>Max. sustained winds(mph)</th>\n",
       "      <th>Minimum pressure(mbar)</th>\n",
       "    </tr>\n",
       "  </thead>\n",
       "  <tbody>\n",
       "    <tr>\n",
       "      <th>0</th>\n",
       "      <td>Hurricane #3</td>\n",
       "      <td>1853</td>\n",
       "      <td>August, September</td>\n",
       "      <td>150</td>\n",
       "      <td>924</td>\n",
       "    </tr>\n",
       "    <tr>\n",
       "      <th>1</th>\n",
       "      <td>\"1856 Last Island Hurricane\"</td>\n",
       "      <td>1856</td>\n",
       "      <td>August</td>\n",
       "      <td>150</td>\n",
       "      <td>934</td>\n",
       "    </tr>\n",
       "    <tr>\n",
       "      <th>2</th>\n",
       "      <td>Hurricane #6</td>\n",
       "      <td>1866</td>\n",
       "      <td>September, October</td>\n",
       "      <td>140</td>\n",
       "      <td>938</td>\n",
       "    </tr>\n",
       "    <tr>\n",
       "      <th>3</th>\n",
       "      <td>Hurricane #7</td>\n",
       "      <td>1878</td>\n",
       "      <td>September, October</td>\n",
       "      <td>140</td>\n",
       "      <td>938</td>\n",
       "    </tr>\n",
       "    <tr>\n",
       "      <th>4</th>\n",
       "      <td>Hurricane #2</td>\n",
       "      <td>1880</td>\n",
       "      <td>August</td>\n",
       "      <td>150</td>\n",
       "      <td>931</td>\n",
       "    </tr>\n",
       "  </tbody>\n",
       "</table>\n",
       "</div>"
      ],
      "text/plain": [
       "                           Name  Season               Month  \\\n",
       "0                  Hurricane #3    1853   August, September   \n",
       "1  \"1856 Last Island Hurricane\"    1856              August   \n",
       "2                  Hurricane #6    1866  September, October   \n",
       "3                  Hurricane #7    1878  September, October   \n",
       "4                  Hurricane #2    1880              August   \n",
       "\n",
       "   Max. sustained winds(mph)  Minimum pressure(mbar)  \n",
       "0                        150                     924  \n",
       "1                        150                     934  \n",
       "2                        140                     938  \n",
       "3                        140                     938  \n",
       "4                        150                     931  "
      ]
     },
     "execution_count": 29,
     "metadata": {},
     "output_type": "execute_result"
    }
   ],
   "source": [
    "'''\n",
    "Reading the dataset\n",
    "'''\n",
    "\n",
    "df = pd.read_csv('./Datasets/Hurricane.csv')\n",
    "df.head()"
   ]
  },
  {
   "cell_type": "code",
   "execution_count": 30,
   "metadata": {},
   "outputs": [
    {
     "data": {
      "text/plain": [
       "(101, 5)"
      ]
     },
     "execution_count": 30,
     "metadata": {},
     "output_type": "execute_result"
    }
   ],
   "source": [
    "df.shape"
   ]
  },
  {
   "cell_type": "code",
   "execution_count": 31,
   "metadata": {},
   "outputs": [
    {
     "data": {
      "text/html": [
       "<div>\n",
       "<style scoped>\n",
       "    .dataframe tbody tr th:only-of-type {\n",
       "        vertical-align: middle;\n",
       "    }\n",
       "\n",
       "    .dataframe tbody tr th {\n",
       "        vertical-align: top;\n",
       "    }\n",
       "\n",
       "    .dataframe thead th {\n",
       "        text-align: right;\n",
       "    }\n",
       "</style>\n",
       "<table border=\"1\" class=\"dataframe\">\n",
       "  <thead>\n",
       "    <tr style=\"text-align: right;\">\n",
       "      <th></th>\n",
       "      <th>Name</th>\n",
       "      <th>Season</th>\n",
       "      <th>Month</th>\n",
       "      <th>Max. sustained winds(mph)</th>\n",
       "      <th>Minimum pressure(mbar)</th>\n",
       "    </tr>\n",
       "  </thead>\n",
       "  <tbody>\n",
       "    <tr>\n",
       "      <th>0</th>\n",
       "      <td>Hurricane #3</td>\n",
       "      <td>1853</td>\n",
       "      <td>August</td>\n",
       "      <td>150</td>\n",
       "      <td>924</td>\n",
       "    </tr>\n",
       "    <tr>\n",
       "      <th>1</th>\n",
       "      <td>Hurricane #3</td>\n",
       "      <td>1853</td>\n",
       "      <td>September</td>\n",
       "      <td>150</td>\n",
       "      <td>924</td>\n",
       "    </tr>\n",
       "    <tr>\n",
       "      <th>2</th>\n",
       "      <td>\"1856 Last Island Hurricane\"</td>\n",
       "      <td>1856</td>\n",
       "      <td>August</td>\n",
       "      <td>150</td>\n",
       "      <td>934</td>\n",
       "    </tr>\n",
       "    <tr>\n",
       "      <th>3</th>\n",
       "      <td>Hurricane #6</td>\n",
       "      <td>1866</td>\n",
       "      <td>September</td>\n",
       "      <td>140</td>\n",
       "      <td>938</td>\n",
       "    </tr>\n",
       "    <tr>\n",
       "      <th>4</th>\n",
       "      <td>Hurricane #6</td>\n",
       "      <td>1866</td>\n",
       "      <td>October</td>\n",
       "      <td>140</td>\n",
       "      <td>938</td>\n",
       "    </tr>\n",
       "  </tbody>\n",
       "</table>\n",
       "</div>"
      ],
      "text/plain": [
       "                           Name  Season      Month  Max. sustained winds(mph)  \\\n",
       "0                  Hurricane #3    1853     August                        150   \n",
       "1                  Hurricane #3    1853  September                        150   \n",
       "2  \"1856 Last Island Hurricane\"    1856     August                        150   \n",
       "3                  Hurricane #6    1866  September                        140   \n",
       "4                  Hurricane #6    1866    October                        140   \n",
       "\n",
       "   Minimum pressure(mbar)  \n",
       "0                     924  \n",
       "1                     924  \n",
       "2                     934  \n",
       "3                     938  \n",
       "4                     938  "
      ]
     },
     "execution_count": 31,
     "metadata": {},
     "output_type": "execute_result"
    }
   ],
   "source": [
    "'''\n",
    "Month column conatinded multiple values separated by comma. We need to split the values and create a new row for each value.\n",
    "'''\n",
    "\n",
    "df = df.assign(Month=df['Month'].str.split(', ')).explode('Month').reset_index(drop=True)\n",
    "df.head()"
   ]
  },
  {
   "cell_type": "code",
   "execution_count": 32,
   "metadata": {},
   "outputs": [
    {
     "data": {
      "text/plain": [
       "(137, 5)"
      ]
     },
     "execution_count": 32,
     "metadata": {},
     "output_type": "execute_result"
    }
   ],
   "source": [
    "df.shape"
   ]
  },
  {
   "cell_type": "code",
   "execution_count": 33,
   "metadata": {},
   "outputs": [],
   "source": [
    "df_no_mapped = df.copy()"
   ]
  },
  {
   "cell_type": "code",
   "execution_count": 34,
   "metadata": {},
   "outputs": [],
   "source": [
    "'''\n",
    "Mapping the month names to numbers\n",
    "'''\n",
    "\n",
    "month_mapping = {\n",
    "    'July' : 0,\n",
    "    'August': 1,\n",
    "    'September': 2,\n",
    "    'October': 3,\n",
    "    'November': 4,\n",
    "    'December': 5\n",
    "}\n",
    "\n",
    "df['Month'] = df['Month'].map(month_mapping)"
   ]
  },
  {
   "cell_type": "code",
   "execution_count": 35,
   "metadata": {},
   "outputs": [
    {
     "data": {
      "text/plain": [
       "Month\n",
       "2    68\n",
       "1    35\n",
       "3    30\n",
       "4     3\n",
       "0     1\n",
       "Name: count, dtype: int64"
      ]
     },
     "execution_count": 35,
     "metadata": {},
     "output_type": "execute_result"
    }
   ],
   "source": [
    "df['Month'].value_counts()"
   ]
  },
  {
   "cell_type": "code",
   "execution_count": 36,
   "metadata": {},
   "outputs": [
    {
     "data": {
      "text/html": [
       "<div>\n",
       "<style scoped>\n",
       "    .dataframe tbody tr th:only-of-type {\n",
       "        vertical-align: middle;\n",
       "    }\n",
       "\n",
       "    .dataframe tbody tr th {\n",
       "        vertical-align: top;\n",
       "    }\n",
       "\n",
       "    .dataframe thead th {\n",
       "        text-align: right;\n",
       "    }\n",
       "</style>\n",
       "<table border=\"1\" class=\"dataframe\">\n",
       "  <thead>\n",
       "    <tr style=\"text-align: right;\">\n",
       "      <th></th>\n",
       "      <th>Name</th>\n",
       "      <th>Season</th>\n",
       "      <th>Month</th>\n",
       "      <th>Max. sustained winds(mph)</th>\n",
       "      <th>Minimum pressure(mbar)</th>\n",
       "    </tr>\n",
       "  </thead>\n",
       "  <tbody>\n",
       "    <tr>\n",
       "      <th>0</th>\n",
       "      <td>Hurricane #3</td>\n",
       "      <td>1853</td>\n",
       "      <td>1</td>\n",
       "      <td>150</td>\n",
       "      <td>924</td>\n",
       "    </tr>\n",
       "    <tr>\n",
       "      <th>1</th>\n",
       "      <td>Hurricane #3</td>\n",
       "      <td>1853</td>\n",
       "      <td>2</td>\n",
       "      <td>150</td>\n",
       "      <td>924</td>\n",
       "    </tr>\n",
       "    <tr>\n",
       "      <th>2</th>\n",
       "      <td>\"1856 Last Island Hurricane\"</td>\n",
       "      <td>1856</td>\n",
       "      <td>1</td>\n",
       "      <td>150</td>\n",
       "      <td>934</td>\n",
       "    </tr>\n",
       "    <tr>\n",
       "      <th>3</th>\n",
       "      <td>Hurricane #6</td>\n",
       "      <td>1866</td>\n",
       "      <td>2</td>\n",
       "      <td>140</td>\n",
       "      <td>938</td>\n",
       "    </tr>\n",
       "    <tr>\n",
       "      <th>4</th>\n",
       "      <td>Hurricane #6</td>\n",
       "      <td>1866</td>\n",
       "      <td>3</td>\n",
       "      <td>140</td>\n",
       "      <td>938</td>\n",
       "    </tr>\n",
       "  </tbody>\n",
       "</table>\n",
       "</div>"
      ],
      "text/plain": [
       "                           Name  Season  Month  Max. sustained winds(mph)  \\\n",
       "0                  Hurricane #3    1853      1                        150   \n",
       "1                  Hurricane #3    1853      2                        150   \n",
       "2  \"1856 Last Island Hurricane\"    1856      1                        150   \n",
       "3                  Hurricane #6    1866      2                        140   \n",
       "4                  Hurricane #6    1866      3                        140   \n",
       "\n",
       "   Minimum pressure(mbar)  \n",
       "0                     924  \n",
       "1                     924  \n",
       "2                     934  \n",
       "3                     938  \n",
       "4                     938  "
      ]
     },
     "execution_count": 36,
     "metadata": {},
     "output_type": "execute_result"
    }
   ],
   "source": [
    "df.head()"
   ]
  },
  {
   "cell_type": "markdown",
   "metadata": {},
   "source": [
    "a. With a 1% level of significance conduct t-test for correlation coefficient between “Max. sustained winds(mph)” and “Minimum pressure (mbar)”."
   ]
  },
  {
   "cell_type": "markdown",
   "metadata": {},
   "source": [
    "Scratch Implementation"
   ]
  },
  {
   "cell_type": "code",
   "execution_count": 37,
   "metadata": {},
   "outputs": [],
   "source": [
    "alpha = 0.01\n",
    "n = df.shape[0]\n",
    "r = np.corrcoef(df[\"Max. sustained winds(mph)\"], df[\"Minimum pressure(mbar)\"])[0, 1]\n",
    "t_value = r / np.sqrt((1 - r**2) / (n - 2))"
   ]
  },
  {
   "cell_type": "code",
   "execution_count": 38,
   "metadata": {},
   "outputs": [
    {
     "name": "stdout",
     "output_type": "stream",
     "text": [
      "Correlation Coeffient :-0.4629058408860278\n",
      "T value: -6.06772854436473\n",
      "The critical value is: 2.612737907503725\n"
     ]
    }
   ],
   "source": [
    "degrees_of_freedom = n-2\n",
    "\n",
    "critical_value = t.ppf(1 - alpha/2, degrees_of_freedom)\n",
    "\n",
    "print(f\"Correlation Coeffient :{r}\")\n",
    "print(f\"T value: {t_value}\")\n",
    "print(f\"The critical value is: {critical_value}\")"
   ]
  },
  {
   "cell_type": "markdown",
   "metadata": {},
   "source": [
    "We define our hypothesis as follows: <br>\n",
    "- H0: ρ = 0 (There is no correlation between the maximum sustained winds and the minimum pressure) <br>\n",
    "- H1: ρ != 0 (There is correlation between the maximum sustained winds and the minimum pressure)"
   ]
  },
  {
   "cell_type": "code",
   "execution_count": 39,
   "metadata": {},
   "outputs": [
    {
     "name": "stdout",
     "output_type": "stream",
     "text": [
      "Rejecting the NULL Hypothesis: There is significant correlation\n"
     ]
    }
   ],
   "source": [
    "if (t_value < critical_value):\n",
    "    print(\"Rejecting the NULL Hypothesis: There is significant correlation\")\n",
    "else:\n",
    "    print(\"Failed to reject the NULL Hypothesis: There is no significant correlation\")"
   ]
  },
  {
   "cell_type": "markdown",
   "metadata": {},
   "source": [
    "Verifying using inbuilt libraries"
   ]
  },
  {
   "cell_type": "code",
   "execution_count": 40,
   "metadata": {},
   "outputs": [
    {
     "name": "stdout",
     "output_type": "stream",
     "text": [
      "Pearson correlation: -0.46290584088602715\n",
      "P-value: 1.2303904634740846e-08\n",
      "Reject the null hypothesis: Significant correlation.\n"
     ]
    }
   ],
   "source": [
    "winds = df['Max. sustained winds(mph)']\n",
    "pressure = df['Minimum pressure(mbar)']\n",
    "\n",
    "correlation, p_value = pearsonr(winds, pressure)\n",
    "\n",
    "print(f\"Pearson correlation: {correlation}\")\n",
    "print(f\"P-value: {p_value}\")\n",
    "\n",
    "if p_value < 0.01:\n",
    "    print(\"Reject the null hypothesis: Significant correlation.\")\n",
    "else:\n",
    "    print(\"Fail to reject the null hypothesis: No significant correlation.\")\n"
   ]
  },
  {
   "cell_type": "markdown",
   "metadata": {},
   "source": [
    "b. With a 5% level of significance test if the “Max. sustained winds(mph)” of hurricane depends on the month of its occurrence."
   ]
  },
  {
   "cell_type": "markdown",
   "metadata": {},
   "source": [
    "We define our hypothesis as follows: <br>\n",
    "- H0: ρ = 0 (There is no correlation between the maximum sustained winds and the month of occurence) <br>\n",
    "- H1: ρ != 0 (There is correlation between the maximum sustained winds and the month of occurence)"
   ]
  },
  {
   "cell_type": "markdown",
   "metadata": {},
   "source": [
    "We perform ANOVA test on our original dataset, where the months are not mapped to integers. This is because month is categorical and wind speed is numeric. For testing statistical dependence between a qualitative and quantitative feature, we use ANOVA test.\n",
    "\n",
    "<b>Reference: </b>\n",
    "- https://towardsdatascience.com/every-statistical-test-to-check-feature-dependence-773a21cd6722"
   ]
  },
  {
   "cell_type": "code",
   "execution_count": 41,
   "metadata": {},
   "outputs": [
    {
     "name": "stdout",
     "output_type": "stream",
     "text": [
      "               sum_sq     df         F    PR(>F)\n",
      "C(Month)    94.000823    4.0  0.382562  0.820795\n",
      "Residual  8108.553922  132.0       NaN       NaN\n",
      "Fail to reject the null hypothesis: No significant dependence on the month.\n"
     ]
    }
   ],
   "source": [
    "# Conduct ANOVA test\n",
    "model = ols('Q(\"Max. sustained winds(mph)\") ~ C(Month)', data=df_no_mapped).fit()\n",
    "anova_table = sm.stats.anova_lm(model, typ=2)\n",
    "\n",
    "print(anova_table)\n",
    "\n",
    "# Check p-value at 5% significance level\n",
    "p_value = anova_table['PR(>F)'][0]\n",
    "if p_value < 0.05:\n",
    "    print(\"Reject the null hypothesis: Max sustained winds depend on the month of occurrence.\")\n",
    "else:\n",
    "    print(\"Fail to reject the null hypothesis: No significant dependence on the month.\")"
   ]
  },
  {
   "cell_type": "code",
   "execution_count": 42,
   "metadata": {},
   "outputs": [
    {
     "data": {
      "text/html": [
       "<div>\n",
       "<style scoped>\n",
       "    .dataframe tbody tr th:only-of-type {\n",
       "        vertical-align: middle;\n",
       "    }\n",
       "\n",
       "    .dataframe tbody tr th {\n",
       "        vertical-align: top;\n",
       "    }\n",
       "\n",
       "    .dataframe thead th {\n",
       "        text-align: right;\n",
       "    }\n",
       "</style>\n",
       "<table border=\"1\" class=\"dataframe\">\n",
       "  <thead>\n",
       "    <tr style=\"text-align: right;\">\n",
       "      <th></th>\n",
       "      <th>Name</th>\n",
       "      <th>Season</th>\n",
       "      <th>Month</th>\n",
       "      <th>Max. sustained winds(mph)</th>\n",
       "      <th>Minimum pressure(mbar)</th>\n",
       "    </tr>\n",
       "  </thead>\n",
       "  <tbody>\n",
       "    <tr>\n",
       "      <th>0</th>\n",
       "      <td>Hurricane #3</td>\n",
       "      <td>1853</td>\n",
       "      <td>1</td>\n",
       "      <td>150</td>\n",
       "      <td>924</td>\n",
       "    </tr>\n",
       "    <tr>\n",
       "      <th>1</th>\n",
       "      <td>Hurricane #3</td>\n",
       "      <td>1853</td>\n",
       "      <td>2</td>\n",
       "      <td>150</td>\n",
       "      <td>924</td>\n",
       "    </tr>\n",
       "    <tr>\n",
       "      <th>2</th>\n",
       "      <td>\"1856 Last Island Hurricane\"</td>\n",
       "      <td>1856</td>\n",
       "      <td>1</td>\n",
       "      <td>150</td>\n",
       "      <td>934</td>\n",
       "    </tr>\n",
       "    <tr>\n",
       "      <th>3</th>\n",
       "      <td>Hurricane #6</td>\n",
       "      <td>1866</td>\n",
       "      <td>2</td>\n",
       "      <td>140</td>\n",
       "      <td>938</td>\n",
       "    </tr>\n",
       "    <tr>\n",
       "      <th>4</th>\n",
       "      <td>Hurricane #6</td>\n",
       "      <td>1866</td>\n",
       "      <td>3</td>\n",
       "      <td>140</td>\n",
       "      <td>938</td>\n",
       "    </tr>\n",
       "  </tbody>\n",
       "</table>\n",
       "</div>"
      ],
      "text/plain": [
       "                           Name  Season  Month  Max. sustained winds(mph)  \\\n",
       "0                  Hurricane #3    1853      1                        150   \n",
       "1                  Hurricane #3    1853      2                        150   \n",
       "2  \"1856 Last Island Hurricane\"    1856      1                        150   \n",
       "3                  Hurricane #6    1866      2                        140   \n",
       "4                  Hurricane #6    1866      3                        140   \n",
       "\n",
       "   Minimum pressure(mbar)  \n",
       "0                     924  \n",
       "1                     924  \n",
       "2                     934  \n",
       "3                     938  \n",
       "4                     938  "
      ]
     },
     "execution_count": 42,
     "metadata": {},
     "output_type": "execute_result"
    }
   ],
   "source": [
    "df.head()"
   ]
  },
  {
   "cell_type": "markdown",
   "metadata": {},
   "source": [
    "Now, we perform t-test on our data where the months were mapped to integers. This is because t-test is used to test statistical dependence between two quantitative features. After mapping to integers, we convert months, a qualitative feature to a quantitative feature."
   ]
  },
  {
   "cell_type": "code",
   "execution_count": 43,
   "metadata": {},
   "outputs": [
    {
     "name": "stdout",
     "output_type": "stream",
     "text": [
      "Correlation coefficient (r): 0.00900011347953533\n",
      "Calculated t-value: 0.10457610438545846\n",
      "Critical t-value at 5% significance level: 1.977692277222804\n",
      "Fail to reject the null hypothesis: No significant dependence on the month.\n"
     ]
    }
   ],
   "source": [
    "r = np.corrcoef(df['Max. sustained winds(mph)'],df['Month'] )[0, 1]\n",
    "\n",
    "alpha = 0.05\n",
    "n = df.shape[0]\n",
    "t_value = r * np.sqrt((n - 2) / (1 - r**2))\n",
    "degrees = n-2\n",
    "\n",
    "\n",
    "critical_value = t.ppf(1 - alpha/2, degrees)\n",
    "\n",
    "print(f\"Correlation coefficient (r): {r}\")\n",
    "print(f\"Calculated t-value: {t_value}\")\n",
    "print(f\"Critical t-value at 5% significance level: {critical_value}\")\n",
    "\n",
    "if  (abs(t_value) > critical_value):\n",
    "    print(\"Reject the null hypothesis: Max sustained winds depend on the month of occurrence.\")\n",
    "else:\n",
    "    print(\"Fail to reject the null hypothesis: No significant dependence on the month.\")"
   ]
  },
  {
   "cell_type": "markdown",
   "metadata": {},
   "source": [
    "c. With a 10% level of significance conduct test if “Max. sustained winds(mph)” follows a Poisson distribution."
   ]
  },
  {
   "cell_type": "markdown",
   "metadata": {},
   "source": [
    "<b> Scaling the expected frequencies for chi square test </b>\n",
    "\n",
    "The inbuilt function `scipy.stats.chisquare` performs the chi-square test on a vector of observed and expected frequencies. However, for the test to work, the observed and expected frequencies must have nearly the same sum otherwise, it will raise an error due to incompatible inputs. To solve this, we rescaled the sum of expected frequencies so that they are nearly equal to the sum of the observed frequencies and then did the further calculations.\n",
    "\n",
    "Reference:\n",
    "- [Scipy Github Issues](https://github.com/scipy/scipy/issues/12282)"
   ]
  },
  {
   "cell_type": "code",
   "execution_count": 44,
   "metadata": {},
   "outputs": [
    {
     "name": "stdout",
     "output_type": "stream",
     "text": [
      "Lambda : 142.33576642335765\n",
      "\n",
      "Observed Frequencies:\n",
      " Max. sustained winds(mph)\n",
      "130    28\n",
      "140    39\n",
      "145    33\n",
      "150    24\n",
      "155    13\n",
      "Name: count, dtype: int64\n",
      "\n",
      "Expected Frequencies:\n",
      " [21.14459376472458, 34.66753441054795, 33.87811106758004, 27.879178668675344, 19.430582088472068]\n",
      "\n",
      "Sum of Observed Frequencies: 137\n",
      "Sum of Expected Frequencies: 137.0\n",
      "\n",
      "Chi-square statistic: 5.4547959472372565\n",
      "P-value: 0.2437316198723859\n",
      "\n",
      "Fail to reject the null hypothesis: Winds follow a Poisson distribution.\n"
     ]
    }
   ],
   "source": [
    "winds = df['Max. sustained winds(mph)']\n",
    "\n",
    "mean_wind = winds.mean()\n",
    "print(\"Lambda :\"  , mean_wind)\n",
    "print()\n",
    "\n",
    "observed_freq = winds.value_counts().sort_index()\n",
    "print(\"Observed Frequencies:\\n\", observed_freq)\n",
    "print()\n",
    "total = len(winds)\n",
    "expected_freq = [poisson.pmf(k, mean_wind) for k in observed_freq.index]\n",
    "total2 = sum(expected_freq)\n",
    "expected_freq = [prob * total/total2 for prob in expected_freq]\n",
    "print(\"Expected Frequencies:\\n\", expected_freq)\n",
    "print()\n",
    "# Checking if the sums of observed and expected frequencies are the same\n",
    "print(\"Sum of Observed Frequencies:\", observed_freq.sum())\n",
    "print(\"Sum of Expected Frequencies:\", sum(expected_freq))\n",
    "print()\n",
    "chi_square_stat, p_value = chisquare(f_obs=observed_freq, f_exp=expected_freq)\n",
    "\n",
    "print(f\"Chi-square statistic: {chi_square_stat}\")\n",
    "print(f\"P-value: {p_value}\")\n",
    "print()\n",
    "\n",
    "if p_value < 0.10:\n",
    "    print(\"Reject the null hypothesis: Winds do not follow a Poisson distribution.\")\n",
    "else:\n",
    "    print(\"Fail to reject the null hypothesis: Winds follow a Poisson distribution.\")\n"
   ]
  },
  {
   "cell_type": "markdown",
   "metadata": {},
   "source": [
    "<b> Without Scaling the observed frequencies for chi square test </b>"
   ]
  },
  {
   "cell_type": "code",
   "execution_count": 45,
   "metadata": {},
   "outputs": [
    {
     "name": "stdout",
     "output_type": "stream",
     "text": [
      "Lambda :  142.33576642335765\n",
      "Observed Frequencies:\n",
      " Max. sustained winds(mph)\n",
      "130    28\n",
      "140    39\n",
      "145    33\n",
      "150    24\n",
      "155    13\n",
      "Name: count, dtype: int64\n",
      "\n",
      "Expected Frequencies:\n",
      " Max. sustained winds(mph)\n",
      "130    2.761946\n",
      "140    4.528338\n",
      "145    4.425222\n",
      "150    3.641630\n",
      "155    2.538059\n",
      "dtype: float64\n",
      "\n",
      "Sum of Observed Frequencies: 137\n",
      "Sum of Expected Frequencies: 17.895195365650657\n",
      "Chi-square statistic (manual calculation): 834.4844091739852\n",
      "Critical value at 10.0% significance level: 7.779440339734858\n",
      "P-value (manual calculation): 0.0\n",
      "\n",
      "Reject the null hypothesis: Winds do not follow a Poisson distribution.\n"
     ]
    }
   ],
   "source": [
    "winds = df['Max. sustained winds(mph)']\n",
    "mean_wind = winds.mean()\n",
    "print(\"Lambda : \", mean_wind)\n",
    "observed_freq = winds.value_counts().sort_index()\n",
    "print(\"Observed Frequencies:\\n\", observed_freq)\n",
    "print()\n",
    "\n",
    "total = len(winds)\n",
    "expected_freq = [poisson.pmf(k, mean_wind) * total for k in observed_freq.index]\n",
    "\n",
    "expected_freq_series = pd.Series(expected_freq, index=observed_freq.index).fillna(0)\n",
    "\n",
    "print(\"Expected Frequencies:\\n\", expected_freq_series)\n",
    "print()\n",
    "print(\"Sum of Observed Frequencies:\", observed_freq.sum())\n",
    "print(\"Sum of Expected Frequencies:\", expected_freq_series.sum())\n",
    "\n",
    "# Calculating chi-square statistic from scratch\n",
    "chi_square_stat = np.sum((observed_freq - expected_freq_series) ** 2 / expected_freq_series)\n",
    "\n",
    "print(f\"Chi-square statistic (manual calculation): {chi_square_stat}\")\n",
    "\n",
    "# Degrees of freedom\n",
    "degrees_of_freedom = len(winds.value_counts()) - 1\n",
    "alpha = 0.10\n",
    "critical_value = chi2.ppf(1 - alpha, degrees_of_freedom)\n",
    "print(f\"Critical value at {alpha*100}% significance level: {critical_value}\")  #change\n",
    "\n",
    "# Calculating p-value using the chi-square distribution\n",
    "p_value = 1 - chi2.cdf(chi_square_stat, degrees_of_freedom)\n",
    "\n",
    "print(f\"P-value (manual calculation): {p_value}\")\n",
    "print()\n",
    "if p_value < 0.10:\n",
    "    print(\"Reject the null hypothesis: Winds do not follow a Poisson distribution.\")\n",
    "else:\n",
    "    print(\"Fail to reject the null hypothesis: Winds follow a Poisson distribution.\")\n"
   ]
  }
 ],
 "metadata": {
  "kernelspec": {
   "display_name": "base",
   "language": "python",
   "name": "python3"
  },
  "language_info": {
   "codemirror_mode": {
    "name": "ipython",
    "version": 3
   },
   "file_extension": ".py",
   "mimetype": "text/x-python",
   "name": "python",
   "nbconvert_exporter": "python",
   "pygments_lexer": "ipython3",
   "version": "3.11.5"
  }
 },
 "nbformat": 4,
 "nbformat_minor": 2
}
