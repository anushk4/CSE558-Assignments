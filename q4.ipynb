{
 "cells": [
  {
   "cell_type": "code",
   "execution_count": 17,
   "metadata": {},
   "outputs": [],
   "source": [
    "import pandas as pd\n",
    "import numpy as np\n",
    "from scipy.stats import t, pearsonr\n",
    "import statsmodels.api as sm\n",
    "from statsmodels.formula.api import ols\n",
    "from scipy.stats import chisquare, poisson"
   ]
  },
  {
   "cell_type": "code",
   "execution_count": 18,
   "metadata": {},
   "outputs": [
    {
     "data": {
      "text/html": [
       "<div>\n",
       "<style scoped>\n",
       "    .dataframe tbody tr th:only-of-type {\n",
       "        vertical-align: middle;\n",
       "    }\n",
       "\n",
       "    .dataframe tbody tr th {\n",
       "        vertical-align: top;\n",
       "    }\n",
       "\n",
       "    .dataframe thead th {\n",
       "        text-align: right;\n",
       "    }\n",
       "</style>\n",
       "<table border=\"1\" class=\"dataframe\">\n",
       "  <thead>\n",
       "    <tr style=\"text-align: right;\">\n",
       "      <th></th>\n",
       "      <th>Name</th>\n",
       "      <th>Season</th>\n",
       "      <th>Month</th>\n",
       "      <th>Max. sustained winds(mph)</th>\n",
       "      <th>Minimum pressure(mbar)</th>\n",
       "    </tr>\n",
       "  </thead>\n",
       "  <tbody>\n",
       "    <tr>\n",
       "      <th>0</th>\n",
       "      <td>Hurricane #3</td>\n",
       "      <td>1853</td>\n",
       "      <td>August, September</td>\n",
       "      <td>150</td>\n",
       "      <td>924</td>\n",
       "    </tr>\n",
       "    <tr>\n",
       "      <th>1</th>\n",
       "      <td>\"1856 Last Island Hurricane\"</td>\n",
       "      <td>1856</td>\n",
       "      <td>August</td>\n",
       "      <td>150</td>\n",
       "      <td>934</td>\n",
       "    </tr>\n",
       "    <tr>\n",
       "      <th>2</th>\n",
       "      <td>Hurricane #6</td>\n",
       "      <td>1866</td>\n",
       "      <td>September, October</td>\n",
       "      <td>140</td>\n",
       "      <td>938</td>\n",
       "    </tr>\n",
       "    <tr>\n",
       "      <th>3</th>\n",
       "      <td>Hurricane #7</td>\n",
       "      <td>1878</td>\n",
       "      <td>September, October</td>\n",
       "      <td>140</td>\n",
       "      <td>938</td>\n",
       "    </tr>\n",
       "    <tr>\n",
       "      <th>4</th>\n",
       "      <td>Hurricane #2</td>\n",
       "      <td>1880</td>\n",
       "      <td>August</td>\n",
       "      <td>150</td>\n",
       "      <td>931</td>\n",
       "    </tr>\n",
       "  </tbody>\n",
       "</table>\n",
       "</div>"
      ],
      "text/plain": [
       "                           Name  Season               Month  \\\n",
       "0                  Hurricane #3    1853   August, September   \n",
       "1  \"1856 Last Island Hurricane\"    1856              August   \n",
       "2                  Hurricane #6    1866  September, October   \n",
       "3                  Hurricane #7    1878  September, October   \n",
       "4                  Hurricane #2    1880              August   \n",
       "\n",
       "   Max. sustained winds(mph)  Minimum pressure(mbar)  \n",
       "0                        150                     924  \n",
       "1                        150                     934  \n",
       "2                        140                     938  \n",
       "3                        140                     938  \n",
       "4                        150                     931  "
      ]
     },
     "execution_count": 18,
     "metadata": {},
     "output_type": "execute_result"
    }
   ],
   "source": [
    "df = pd.read_csv('./Datasets/Hurricane.csv')\n",
    "df.head()"
   ]
  },
  {
   "cell_type": "code",
   "execution_count": 19,
   "metadata": {},
   "outputs": [
    {
     "data": {
      "text/plain": [
       "(101, 5)"
      ]
     },
     "execution_count": 19,
     "metadata": {},
     "output_type": "execute_result"
    }
   ],
   "source": [
    "df.shape"
   ]
  },
  {
   "cell_type": "markdown",
   "metadata": {},
   "source": [
    "a. With a 1% level of significance conduct t-test for correlation coefficient between “Max. sustained winds(mph)” and “Minimum pressure (mbar)”."
   ]
  },
  {
   "cell_type": "code",
   "execution_count": 20,
   "metadata": {},
   "outputs": [
    {
     "data": {
      "text/plain": [
       "-5.497270157344816"
      ]
     },
     "execution_count": 20,
     "metadata": {},
     "output_type": "execute_result"
    }
   ],
   "source": [
    "alpha = 0.01\n",
    "n = df.shape[0]\n",
    "r = np.corrcoef(df[\"Max. sustained winds(mph)\"], df[\"Minimum pressure(mbar)\"])[0, 1]\n",
    "t_value = r / np.sqrt((1 - r**2) / (n - 2))\n",
    "t_value"
   ]
  },
  {
   "cell_type": "code",
   "execution_count": 21,
   "metadata": {},
   "outputs": [
    {
     "data": {
      "text/plain": [
       "1.0"
      ]
     },
     "execution_count": 21,
     "metadata": {},
     "output_type": "execute_result"
    }
   ],
   "source": [
    "degrees = n - 2\n",
    "p_value_lower = t.cdf(-np.abs(t_value), degrees)\n",
    "p_value_upper = 1 - t.cdf(t_value, degrees)\n",
    "p_value = p_value_lower + p_value_upper\n",
    "p_value"
   ]
  },
  {
   "cell_type": "code",
   "execution_count": 22,
   "metadata": {},
   "outputs": [
    {
     "name": "stdout",
     "output_type": "stream",
     "text": [
      "1.5049593099751135e-07 0.999999849504069\n"
     ]
    }
   ],
   "source": [
    "print(p_value_lower, p_value_upper)"
   ]
  },
  {
   "cell_type": "code",
   "execution_count": 23,
   "metadata": {},
   "outputs": [
    {
     "data": {
      "text/plain": [
       "False"
      ]
     },
     "execution_count": 23,
     "metadata": {},
     "output_type": "execute_result"
    }
   ],
   "source": [
    "p_value < alpha"
   ]
  },
  {
   "cell_type": "code",
   "execution_count": 24,
   "metadata": {},
   "outputs": [
    {
     "data": {
      "text/plain": [
       "PearsonRResult(statistic=-0.4835954956356638, pvalue=3.009918619950333e-07)"
      ]
     },
     "execution_count": 24,
     "metadata": {},
     "output_type": "execute_result"
    }
   ],
   "source": [
    "test_result = pearsonr(df[\"Max. sustained winds(mph)\"], df[\"Minimum pressure(mbar)\"])\n",
    "test_result"
   ]
  },
  {
   "cell_type": "code",
   "execution_count": 25,
   "metadata": {},
   "outputs": [
    {
     "data": {
      "text/plain": [
       "3.009918619950333e-07"
      ]
     },
     "execution_count": 25,
     "metadata": {},
     "output_type": "execute_result"
    }
   ],
   "source": [
    "test_result.pvalue"
   ]
  },
  {
   "cell_type": "code",
   "execution_count": 26,
   "metadata": {},
   "outputs": [
    {
     "data": {
      "text/plain": [
       "ConfidenceInterval(low=-0.620398678938358, high=-0.31823362079686485)"
      ]
     },
     "execution_count": 26,
     "metadata": {},
     "output_type": "execute_result"
    }
   ],
   "source": [
    "test_result.confidence_interval()"
   ]
  },
  {
   "cell_type": "code",
   "execution_count": 27,
   "metadata": {},
   "outputs": [
    {
     "name": "stdout",
     "output_type": "stream",
     "text": [
      "Pearson correlation: -0.4835954956356638\n",
      "P-value: 3.009918619950333e-07\n",
      "Reject the null hypothesis: Significant correlation.\n"
     ]
    }
   ],
   "source": [
    "# Extract relevant columns\n",
    "winds = df['Max. sustained winds(mph)']\n",
    "pressure = df['Minimum pressure(mbar)']\n",
    "\n",
    "# Calculate Pearson correlation\n",
    "correlation, p_value = pearsonr(winds, pressure)\n",
    "\n",
    "# Display the result\n",
    "print(f\"Pearson correlation: {correlation}\")\n",
    "print(f\"P-value: {p_value}\")\n",
    "\n",
    "# Test the significance at 1% level\n",
    "if p_value < 0.01:\n",
    "    print(\"Reject the null hypothesis: Significant correlation.\")\n",
    "else:\n",
    "    print(\"Fail to reject the null hypothesis: No significant correlation.\")\n"
   ]
  },
  {
   "cell_type": "code",
   "execution_count": 28,
   "metadata": {},
   "outputs": [
    {
     "data": {
      "text/plain": [
       "Max. sustained winds(mph)    1.000000\n",
       "Season                       0.023853\n",
       "Minimum pressure(mbar)      -0.483595\n",
       "Name: Max. sustained winds(mph), dtype: float64"
      ]
     },
     "execution_count": 28,
     "metadata": {},
     "output_type": "execute_result"
    }
   ],
   "source": [
    "df.drop(columns=['Name', 'Month']).corr()['Max. sustained winds(mph)'].sort_values(ascending=False)"
   ]
  },
  {
   "cell_type": "markdown",
   "metadata": {},
   "source": [
    "b. With a 5% level of significance test if the “Max. sustained winds(mph)” of hurricane depends on the month of its occurrence."
   ]
  },
  {
   "cell_type": "code",
   "execution_count": 29,
   "metadata": {},
   "outputs": [],
   "source": [
    "model = ols('Q(\"Max. sustained winds(mph)\") ~ C(Month)', data=df).fit()\n",
    "anova_table = sm.stats.anova_lm(model, typ=2)"
   ]
  },
  {
   "cell_type": "code",
   "execution_count": 30,
   "metadata": {},
   "outputs": [
    {
     "data": {
      "text/html": [
       "<div>\n",
       "<style scoped>\n",
       "    .dataframe tbody tr th:only-of-type {\n",
       "        vertical-align: middle;\n",
       "    }\n",
       "\n",
       "    .dataframe tbody tr th {\n",
       "        vertical-align: top;\n",
       "    }\n",
       "\n",
       "    .dataframe thead th {\n",
       "        text-align: right;\n",
       "    }\n",
       "</style>\n",
       "<table border=\"1\" class=\"dataframe\">\n",
       "  <thead>\n",
       "    <tr style=\"text-align: right;\">\n",
       "      <th></th>\n",
       "      <th>sum_sq</th>\n",
       "      <th>df</th>\n",
       "      <th>F</th>\n",
       "      <th>PR(&gt;F)</th>\n",
       "    </tr>\n",
       "  </thead>\n",
       "  <tbody>\n",
       "    <tr>\n",
       "      <th>C(Month)</th>\n",
       "      <td>575.335510</td>\n",
       "      <td>14.0</td>\n",
       "      <td>0.634822</td>\n",
       "      <td>0.828846</td>\n",
       "    </tr>\n",
       "    <tr>\n",
       "      <th>Residual</th>\n",
       "      <td>5567.238748</td>\n",
       "      <td>86.0</td>\n",
       "      <td>NaN</td>\n",
       "      <td>NaN</td>\n",
       "    </tr>\n",
       "  </tbody>\n",
       "</table>\n",
       "</div>"
      ],
      "text/plain": [
       "               sum_sq    df         F    PR(>F)\n",
       "C(Month)   575.335510  14.0  0.634822  0.828846\n",
       "Residual  5567.238748  86.0       NaN       NaN"
      ]
     },
     "execution_count": 30,
     "metadata": {},
     "output_type": "execute_result"
    }
   ],
   "source": [
    "anova_table"
   ]
  },
  {
   "cell_type": "code",
   "execution_count": 40,
   "metadata": {},
   "outputs": [
    {
     "name": "stdout",
     "output_type": "stream",
     "text": [
      "Fail to reject the null hypothesis: Winds do not depend on the month.\n"
     ]
    }
   ],
   "source": [
    "p_value = anova_table['PR(>F)'][0]\n",
    "if p_value < 0.05:\n",
    "    print(\"Reject the null hypothesis: Winds depend on the month.\")\n",
    "else:\n",
    "    print(\"Fail to reject the null hypothesis: Winds do not depend on the month.\")"
   ]
  },
  {
   "cell_type": "markdown",
   "metadata": {},
   "source": [
    "c. With a 10% level of significance conduct test if “Max. sustained winds(mph)” follows a Poisson distribution."
   ]
  },
  {
   "cell_type": "code",
   "execution_count": 64,
   "metadata": {},
   "outputs": [
    {
     "name": "stdout",
     "output_type": "stream",
     "text": [
      "Chi-square statistic: 5.649893997595145\n",
      "P-value: 0.22686449271473874\n",
      "Fail to reject the null hypothesis: Winds follow a Poisson distribution.\n"
     ]
    }
   ],
   "source": [
    "winds = df['Max. sustained winds(mph)']\n",
    "\n",
    "mean_wind = winds.mean()\n",
    "\n",
    "# Generate observed frequencies (assuming wind speeds are integers)\n",
    "observed_freq = winds.value_counts().sort_index()\n",
    "\n",
    "# Generate Poisson probabilities for the observed values\n",
    "expected_freq = [poisson.pmf(k, mean_wind) for k in observed_freq.index]\n",
    "total = sum(expected_freq)\n",
    "expected_freq =  [poisson.pmf(k, mean_wind)*101/total for k in observed_freq.index]\n",
    "# expected_freq\n",
    "chi_square_stat, p_value = chisquare(f_obs=observed_freq, f_exp=expected_freq)\n",
    "print(f\"Chi-square statistic: {chi_square_stat}\")\n",
    "print(f\"P-value: {p_value}\")\n",
    "\n",
    "# Check significance at 10% level\n",
    "if p_value < 0.10:\n",
    "    print(\"Reject the null hypothesis: Winds do not follow a Poisson distribution.\")\n",
    "else:\n",
    "    print(\"Fail to reject the null hypothesis: Winds follow a Poisson distribution.\")"
   ]
  }
 ],
 "metadata": {
  "kernelspec": {
   "display_name": "base",
   "language": "python",
   "name": "python3"
  },
  "language_info": {
   "codemirror_mode": {
    "name": "ipython",
    "version": 3
   },
   "file_extension": ".py",
   "mimetype": "text/x-python",
   "name": "python",
   "nbconvert_exporter": "python",
   "pygments_lexer": "ipython3",
   "version": "3.11.5"
  }
 },
 "nbformat": 4,
 "nbformat_minor": 2
}
