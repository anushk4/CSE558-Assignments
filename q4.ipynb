{
 "cells": [
  {
   "cell_type": "code",
   "execution_count": 1,
   "metadata": {},
   "outputs": [],
   "source": [
    "import pandas as pd\n",
    "import numpy as np\n",
    "from scipy.stats import t, pearsonr\n",
    "import statsmodels.api as sm\n",
    "from statsmodels.formula.api import ols\n",
    "from scipy.stats import chisquare, poisson "
   ]
  },
  {
   "cell_type": "code",
   "execution_count": 2,
   "metadata": {},
   "outputs": [
    {
     "data": {
      "text/html": [
       "<div>\n",
       "<style scoped>\n",
       "    .dataframe tbody tr th:only-of-type {\n",
       "        vertical-align: middle;\n",
       "    }\n",
       "\n",
       "    .dataframe tbody tr th {\n",
       "        vertical-align: top;\n",
       "    }\n",
       "\n",
       "    .dataframe thead th {\n",
       "        text-align: right;\n",
       "    }\n",
       "</style>\n",
       "<table border=\"1\" class=\"dataframe\">\n",
       "  <thead>\n",
       "    <tr style=\"text-align: right;\">\n",
       "      <th></th>\n",
       "      <th>Name</th>\n",
       "      <th>Season</th>\n",
       "      <th>Month</th>\n",
       "      <th>Max. sustained winds(mph)</th>\n",
       "      <th>Minimum pressure(mbar)</th>\n",
       "    </tr>\n",
       "  </thead>\n",
       "  <tbody>\n",
       "    <tr>\n",
       "      <th>0</th>\n",
       "      <td>Hurricane #3</td>\n",
       "      <td>1853</td>\n",
       "      <td>August, September</td>\n",
       "      <td>150</td>\n",
       "      <td>924</td>\n",
       "    </tr>\n",
       "    <tr>\n",
       "      <th>1</th>\n",
       "      <td>\"1856 Last Island Hurricane\"</td>\n",
       "      <td>1856</td>\n",
       "      <td>August</td>\n",
       "      <td>150</td>\n",
       "      <td>934</td>\n",
       "    </tr>\n",
       "    <tr>\n",
       "      <th>2</th>\n",
       "      <td>Hurricane #6</td>\n",
       "      <td>1866</td>\n",
       "      <td>September, October</td>\n",
       "      <td>140</td>\n",
       "      <td>938</td>\n",
       "    </tr>\n",
       "    <tr>\n",
       "      <th>3</th>\n",
       "      <td>Hurricane #7</td>\n",
       "      <td>1878</td>\n",
       "      <td>September, October</td>\n",
       "      <td>140</td>\n",
       "      <td>938</td>\n",
       "    </tr>\n",
       "    <tr>\n",
       "      <th>4</th>\n",
       "      <td>Hurricane #2</td>\n",
       "      <td>1880</td>\n",
       "      <td>August</td>\n",
       "      <td>150</td>\n",
       "      <td>931</td>\n",
       "    </tr>\n",
       "  </tbody>\n",
       "</table>\n",
       "</div>"
      ],
      "text/plain": [
       "                           Name  Season               Month  \\\n",
       "0                  Hurricane #3    1853   August, September   \n",
       "1  \"1856 Last Island Hurricane\"    1856              August   \n",
       "2                  Hurricane #6    1866  September, October   \n",
       "3                  Hurricane #7    1878  September, October   \n",
       "4                  Hurricane #2    1880              August   \n",
       "\n",
       "   Max. sustained winds(mph)  Minimum pressure(mbar)  \n",
       "0                        150                     924  \n",
       "1                        150                     934  \n",
       "2                        140                     938  \n",
       "3                        140                     938  \n",
       "4                        150                     931  "
      ]
     },
     "execution_count": 2,
     "metadata": {},
     "output_type": "execute_result"
    }
   ],
   "source": [
    "df = pd.read_csv('./Datasets/Hurricane.csv')\n",
    "df.head()"
   ]
  },
  {
   "cell_type": "code",
   "execution_count": 3,
   "metadata": {},
   "outputs": [
    {
     "data": {
      "text/plain": [
       "(101, 5)"
      ]
     },
     "execution_count": 3,
     "metadata": {},
     "output_type": "execute_result"
    }
   ],
   "source": [
    "df.shape"
   ]
  },
  {
   "cell_type": "code",
   "execution_count": 4,
   "metadata": {},
   "outputs": [
    {
     "data": {
      "text/html": [
       "<div>\n",
       "<style scoped>\n",
       "    .dataframe tbody tr th:only-of-type {\n",
       "        vertical-align: middle;\n",
       "    }\n",
       "\n",
       "    .dataframe tbody tr th {\n",
       "        vertical-align: top;\n",
       "    }\n",
       "\n",
       "    .dataframe thead th {\n",
       "        text-align: right;\n",
       "    }\n",
       "</style>\n",
       "<table border=\"1\" class=\"dataframe\">\n",
       "  <thead>\n",
       "    <tr style=\"text-align: right;\">\n",
       "      <th></th>\n",
       "      <th>Name</th>\n",
       "      <th>Season</th>\n",
       "      <th>Month</th>\n",
       "      <th>Max. sustained winds(mph)</th>\n",
       "      <th>Minimum pressure(mbar)</th>\n",
       "    </tr>\n",
       "  </thead>\n",
       "  <tbody>\n",
       "    <tr>\n",
       "      <th>0</th>\n",
       "      <td>Hurricane #3</td>\n",
       "      <td>1853</td>\n",
       "      <td>August</td>\n",
       "      <td>150</td>\n",
       "      <td>924</td>\n",
       "    </tr>\n",
       "    <tr>\n",
       "      <th>1</th>\n",
       "      <td>Hurricane #3</td>\n",
       "      <td>1853</td>\n",
       "      <td>September</td>\n",
       "      <td>150</td>\n",
       "      <td>924</td>\n",
       "    </tr>\n",
       "    <tr>\n",
       "      <th>2</th>\n",
       "      <td>\"1856 Last Island Hurricane\"</td>\n",
       "      <td>1856</td>\n",
       "      <td>August</td>\n",
       "      <td>150</td>\n",
       "      <td>934</td>\n",
       "    </tr>\n",
       "    <tr>\n",
       "      <th>3</th>\n",
       "      <td>Hurricane #6</td>\n",
       "      <td>1866</td>\n",
       "      <td>September</td>\n",
       "      <td>140</td>\n",
       "      <td>938</td>\n",
       "    </tr>\n",
       "    <tr>\n",
       "      <th>4</th>\n",
       "      <td>Hurricane #6</td>\n",
       "      <td>1866</td>\n",
       "      <td>October</td>\n",
       "      <td>140</td>\n",
       "      <td>938</td>\n",
       "    </tr>\n",
       "  </tbody>\n",
       "</table>\n",
       "</div>"
      ],
      "text/plain": [
       "                           Name  Season      Month  Max. sustained winds(mph)  \\\n",
       "0                  Hurricane #3    1853     August                        150   \n",
       "1                  Hurricane #3    1853  September                        150   \n",
       "2  \"1856 Last Island Hurricane\"    1856     August                        150   \n",
       "3                  Hurricane #6    1866  September                        140   \n",
       "4                  Hurricane #6    1866    October                        140   \n",
       "\n",
       "   Minimum pressure(mbar)  \n",
       "0                     924  \n",
       "1                     924  \n",
       "2                     934  \n",
       "3                     938  \n",
       "4                     938  "
      ]
     },
     "execution_count": 4,
     "metadata": {},
     "output_type": "execute_result"
    }
   ],
   "source": [
    "df = df.assign(Month=df['Month'].str.split(', ')).explode('Month').reset_index(drop=True)\n",
    "df.head()"
   ]
  },
  {
   "cell_type": "code",
   "execution_count": 5,
   "metadata": {},
   "outputs": [
    {
     "data": {
      "text/plain": [
       "(137, 5)"
      ]
     },
     "execution_count": 5,
     "metadata": {},
     "output_type": "execute_result"
    }
   ],
   "source": [
    "df.shape"
   ]
  },
  {
   "cell_type": "code",
   "execution_count": 6,
   "metadata": {},
   "outputs": [],
   "source": [
    "month_mapping = {\n",
    "    'July' : 0,\n",
    "    'August': 1,\n",
    "    'September': 2,\n",
    "    'October': 3,\n",
    "    'November': 4,\n",
    "    'December': 5\n",
    "}\n",
    "\n",
    "# Create a new column with the integer mapping\n",
    "df['Month'] = df['Month'].map(month_mapping)"
   ]
  },
  {
   "cell_type": "code",
   "execution_count": 7,
   "metadata": {},
   "outputs": [
    {
     "data": {
      "text/plain": [
       "Month\n",
       "2    68\n",
       "1    35\n",
       "3    30\n",
       "4     3\n",
       "0     1\n",
       "Name: count, dtype: int64"
      ]
     },
     "execution_count": 7,
     "metadata": {},
     "output_type": "execute_result"
    }
   ],
   "source": [
    "df['Month'].value_counts()"
   ]
  },
  {
   "cell_type": "code",
   "execution_count": 8,
   "metadata": {},
   "outputs": [
    {
     "data": {
      "text/html": [
       "<div>\n",
       "<style scoped>\n",
       "    .dataframe tbody tr th:only-of-type {\n",
       "        vertical-align: middle;\n",
       "    }\n",
       "\n",
       "    .dataframe tbody tr th {\n",
       "        vertical-align: top;\n",
       "    }\n",
       "\n",
       "    .dataframe thead th {\n",
       "        text-align: right;\n",
       "    }\n",
       "</style>\n",
       "<table border=\"1\" class=\"dataframe\">\n",
       "  <thead>\n",
       "    <tr style=\"text-align: right;\">\n",
       "      <th></th>\n",
       "      <th>Name</th>\n",
       "      <th>Season</th>\n",
       "      <th>Month</th>\n",
       "      <th>Max. sustained winds(mph)</th>\n",
       "      <th>Minimum pressure(mbar)</th>\n",
       "    </tr>\n",
       "  </thead>\n",
       "  <tbody>\n",
       "    <tr>\n",
       "      <th>0</th>\n",
       "      <td>Hurricane #3</td>\n",
       "      <td>1853</td>\n",
       "      <td>1</td>\n",
       "      <td>150</td>\n",
       "      <td>924</td>\n",
       "    </tr>\n",
       "    <tr>\n",
       "      <th>1</th>\n",
       "      <td>Hurricane #3</td>\n",
       "      <td>1853</td>\n",
       "      <td>2</td>\n",
       "      <td>150</td>\n",
       "      <td>924</td>\n",
       "    </tr>\n",
       "    <tr>\n",
       "      <th>2</th>\n",
       "      <td>\"1856 Last Island Hurricane\"</td>\n",
       "      <td>1856</td>\n",
       "      <td>1</td>\n",
       "      <td>150</td>\n",
       "      <td>934</td>\n",
       "    </tr>\n",
       "    <tr>\n",
       "      <th>3</th>\n",
       "      <td>Hurricane #6</td>\n",
       "      <td>1866</td>\n",
       "      <td>2</td>\n",
       "      <td>140</td>\n",
       "      <td>938</td>\n",
       "    </tr>\n",
       "    <tr>\n",
       "      <th>4</th>\n",
       "      <td>Hurricane #6</td>\n",
       "      <td>1866</td>\n",
       "      <td>3</td>\n",
       "      <td>140</td>\n",
       "      <td>938</td>\n",
       "    </tr>\n",
       "  </tbody>\n",
       "</table>\n",
       "</div>"
      ],
      "text/plain": [
       "                           Name  Season  Month  Max. sustained winds(mph)  \\\n",
       "0                  Hurricane #3    1853      1                        150   \n",
       "1                  Hurricane #3    1853      2                        150   \n",
       "2  \"1856 Last Island Hurricane\"    1856      1                        150   \n",
       "3                  Hurricane #6    1866      2                        140   \n",
       "4                  Hurricane #6    1866      3                        140   \n",
       "\n",
       "   Minimum pressure(mbar)  \n",
       "0                     924  \n",
       "1                     924  \n",
       "2                     934  \n",
       "3                     938  \n",
       "4                     938  "
      ]
     },
     "execution_count": 8,
     "metadata": {},
     "output_type": "execute_result"
    }
   ],
   "source": [
    "df.head()"
   ]
  },
  {
   "cell_type": "code",
   "execution_count": 9,
   "metadata": {},
   "outputs": [
    {
     "data": {
      "text/html": [
       "<div>\n",
       "<style scoped>\n",
       "    .dataframe tbody tr th:only-of-type {\n",
       "        vertical-align: middle;\n",
       "    }\n",
       "\n",
       "    .dataframe tbody tr th {\n",
       "        vertical-align: top;\n",
       "    }\n",
       "\n",
       "    .dataframe thead th {\n",
       "        text-align: right;\n",
       "    }\n",
       "</style>\n",
       "<table border=\"1\" class=\"dataframe\">\n",
       "  <thead>\n",
       "    <tr style=\"text-align: right;\">\n",
       "      <th></th>\n",
       "      <th>Name</th>\n",
       "      <th>Season</th>\n",
       "      <th>Month</th>\n",
       "      <th>Max. sustained winds(mph)</th>\n",
       "      <th>Minimum pressure(mbar)</th>\n",
       "    </tr>\n",
       "  </thead>\n",
       "  <tbody>\n",
       "    <tr>\n",
       "      <th>0</th>\n",
       "      <td>Hurricane #3</td>\n",
       "      <td>1853</td>\n",
       "      <td>1</td>\n",
       "      <td>150</td>\n",
       "      <td>924</td>\n",
       "    </tr>\n",
       "    <tr>\n",
       "      <th>1</th>\n",
       "      <td>Hurricane #3</td>\n",
       "      <td>1853</td>\n",
       "      <td>2</td>\n",
       "      <td>150</td>\n",
       "      <td>924</td>\n",
       "    </tr>\n",
       "    <tr>\n",
       "      <th>2</th>\n",
       "      <td>\"1856 Last Island Hurricane\"</td>\n",
       "      <td>1856</td>\n",
       "      <td>1</td>\n",
       "      <td>150</td>\n",
       "      <td>934</td>\n",
       "    </tr>\n",
       "    <tr>\n",
       "      <th>3</th>\n",
       "      <td>Hurricane #6</td>\n",
       "      <td>1866</td>\n",
       "      <td>2</td>\n",
       "      <td>140</td>\n",
       "      <td>938</td>\n",
       "    </tr>\n",
       "    <tr>\n",
       "      <th>4</th>\n",
       "      <td>Hurricane #6</td>\n",
       "      <td>1866</td>\n",
       "      <td>3</td>\n",
       "      <td>140</td>\n",
       "      <td>938</td>\n",
       "    </tr>\n",
       "    <tr>\n",
       "      <th>...</th>\n",
       "      <td>...</td>\n",
       "      <td>...</td>\n",
       "      <td>...</td>\n",
       "      <td>...</td>\n",
       "      <td>...</td>\n",
       "    </tr>\n",
       "    <tr>\n",
       "      <th>132</th>\n",
       "      <td>Hurricane Fabian</td>\n",
       "      <td>2003</td>\n",
       "      <td>2</td>\n",
       "      <td>145</td>\n",
       "      <td>939</td>\n",
       "    </tr>\n",
       "    <tr>\n",
       "      <th>133</th>\n",
       "      <td>Hurricane Charley</td>\n",
       "      <td>2004</td>\n",
       "      <td>1</td>\n",
       "      <td>150</td>\n",
       "      <td>941</td>\n",
       "    </tr>\n",
       "    <tr>\n",
       "      <th>134</th>\n",
       "      <td>Hurricane Frances</td>\n",
       "      <td>2004</td>\n",
       "      <td>1</td>\n",
       "      <td>145</td>\n",
       "      <td>935</td>\n",
       "    </tr>\n",
       "    <tr>\n",
       "      <th>135</th>\n",
       "      <td>Hurricane Frances</td>\n",
       "      <td>2004</td>\n",
       "      <td>2</td>\n",
       "      <td>145</td>\n",
       "      <td>935</td>\n",
       "    </tr>\n",
       "    <tr>\n",
       "      <th>136</th>\n",
       "      <td>Hurricane Karl</td>\n",
       "      <td>2004</td>\n",
       "      <td>2</td>\n",
       "      <td>145</td>\n",
       "      <td>938</td>\n",
       "    </tr>\n",
       "  </tbody>\n",
       "</table>\n",
       "<p>137 rows × 5 columns</p>\n",
       "</div>"
      ],
      "text/plain": [
       "                             Name  Season  Month  Max. sustained winds(mph)  \\\n",
       "0                    Hurricane #3    1853      1                        150   \n",
       "1                    Hurricane #3    1853      2                        150   \n",
       "2    \"1856 Last Island Hurricane\"    1856      1                        150   \n",
       "3                    Hurricane #6    1866      2                        140   \n",
       "4                    Hurricane #6    1866      3                        140   \n",
       "..                            ...     ...    ...                        ...   \n",
       "132              Hurricane Fabian    2003      2                        145   \n",
       "133             Hurricane Charley    2004      1                        150   \n",
       "134             Hurricane Frances    2004      1                        145   \n",
       "135             Hurricane Frances    2004      2                        145   \n",
       "136                Hurricane Karl    2004      2                        145   \n",
       "\n",
       "     Minimum pressure(mbar)  \n",
       "0                       924  \n",
       "1                       924  \n",
       "2                       934  \n",
       "3                       938  \n",
       "4                       938  \n",
       "..                      ...  \n",
       "132                     939  \n",
       "133                     941  \n",
       "134                     935  \n",
       "135                     935  \n",
       "136                     938  \n",
       "\n",
       "[137 rows x 5 columns]"
      ]
     },
     "execution_count": 9,
     "metadata": {},
     "output_type": "execute_result"
    }
   ],
   "source": [
    "df"
   ]
  },
  {
   "cell_type": "markdown",
   "metadata": {},
   "source": [
    "a. With a 1% level of significance conduct t-test for correlation coefficient between “Max. sustained winds(mph)” and “Minimum pressure (mbar)”."
   ]
  },
  {
   "cell_type": "code",
   "execution_count": 10,
   "metadata": {},
   "outputs": [
    {
     "data": {
      "text/plain": [
       "-6.06772854436473"
      ]
     },
     "execution_count": 10,
     "metadata": {},
     "output_type": "execute_result"
    }
   ],
   "source": [
    "alpha = 0.01\n",
    "n = df.shape[0]\n",
    "r = np.corrcoef(df[\"Max. sustained winds(mph)\"], df[\"Minimum pressure(mbar)\"])[0, 1]\n",
    "t_value = r / np.sqrt((1 - r**2) / (n - 2))\n",
    "t_value"
   ]
  },
  {
   "cell_type": "code",
   "execution_count": 11,
   "metadata": {},
   "outputs": [
    {
     "data": {
      "text/plain": [
       "-0.4629058408860278"
      ]
     },
     "execution_count": 11,
     "metadata": {},
     "output_type": "execute_result"
    }
   ],
   "source": [
    "r"
   ]
  },
  {
   "cell_type": "code",
   "execution_count": 12,
   "metadata": {},
   "outputs": [
    {
     "name": "stdout",
     "output_type": "stream",
     "text": [
      "The critical value is: 2.613\n"
     ]
    }
   ],
   "source": [
    "degrees = n-2\n",
    "\n",
    "critical_value = t.ppf(1 - alpha/2, degrees)\n",
    "\n",
    "# Print the critical value\n",
    "print(f\"The critical value is: {critical_value:.3f}\")"
   ]
  },
  {
   "cell_type": "code",
   "execution_count": 13,
   "metadata": {},
   "outputs": [
    {
     "name": "stdout",
     "output_type": "stream",
     "text": [
      "Rejecting the NULL Hypothesis\n"
     ]
    }
   ],
   "source": [
    "if (t_value < critical_value):\n",
    "    print(\"Rejecting the NULL Hypothesis\")\n",
    "else:\n",
    "    print(\"Failed to reject the NULL Hypothesis\")"
   ]
  },
  {
   "cell_type": "code",
   "execution_count": 14,
   "metadata": {},
   "outputs": [
    {
     "data": {
      "text/plain": [
       "PearsonRResult(statistic=-0.46290584088602715, pvalue=1.2303904634740846e-08)"
      ]
     },
     "execution_count": 14,
     "metadata": {},
     "output_type": "execute_result"
    }
   ],
   "source": [
    "test_result = pearsonr(df[\"Max. sustained winds(mph)\"], df[\"Minimum pressure(mbar)\"])\n",
    "test_result"
   ]
  },
  {
   "cell_type": "code",
   "execution_count": 15,
   "metadata": {},
   "outputs": [
    {
     "data": {
      "text/plain": [
       "1.2303904634740846e-08"
      ]
     },
     "execution_count": 15,
     "metadata": {},
     "output_type": "execute_result"
    }
   ],
   "source": [
    "test_result.pvalue"
   ]
  },
  {
   "cell_type": "code",
   "execution_count": 16,
   "metadata": {},
   "outputs": [
    {
     "data": {
      "text/plain": [
       "ConfidenceInterval(low=-0.5851892925012568, high=-0.3200368904005088)"
      ]
     },
     "execution_count": 16,
     "metadata": {},
     "output_type": "execute_result"
    }
   ],
   "source": [
    "test_result.confidence_interval()"
   ]
  },
  {
   "cell_type": "code",
   "execution_count": 17,
   "metadata": {},
   "outputs": [
    {
     "name": "stdout",
     "output_type": "stream",
     "text": [
      "Pearson correlation: -0.46290584088602715\n",
      "P-value: 1.2303904634740846e-08\n",
      "Reject the null hypothesis: Significant correlation.\n"
     ]
    }
   ],
   "source": [
    "# Extract relevant columns\n",
    "winds = df['Max. sustained winds(mph)']\n",
    "pressure = df['Minimum pressure(mbar)']\n",
    "\n",
    "# Calculate Pearson correlation\n",
    "correlation, p_value = pearsonr(winds, pressure)\n",
    "\n",
    "# Display the result\n",
    "print(f\"Pearson correlation: {correlation}\")\n",
    "print(f\"P-value: {p_value}\")\n",
    "\n",
    "# Test the significance at 1% level\n",
    "if p_value < 0.01:\n",
    "    print(\"Reject the null hypothesis: Significant correlation.\")\n",
    "else:\n",
    "    print(\"Fail to reject the null hypothesis: No significant correlation.\")\n"
   ]
  },
  {
   "cell_type": "code",
   "execution_count": 18,
   "metadata": {},
   "outputs": [
    {
     "data": {
      "text/plain": [
       "Max. sustained winds(mph)    1.000000\n",
       "Season                       0.066874\n",
       "Minimum pressure(mbar)      -0.462906\n",
       "Name: Max. sustained winds(mph), dtype: float64"
      ]
     },
     "execution_count": 18,
     "metadata": {},
     "output_type": "execute_result"
    }
   ],
   "source": [
    "df.drop(columns=['Name', 'Month']).corr()['Max. sustained winds(mph)'].sort_values(ascending=False)"
   ]
  },
  {
   "cell_type": "markdown",
   "metadata": {},
   "source": [
    "b. With a 5% level of significance test if the “Max. sustained winds(mph)” of hurricane depends on the month of its occurrence."
   ]
  },
  {
   "cell_type": "code",
   "execution_count": 19,
   "metadata": {},
   "outputs": [
    {
     "data": {
      "text/html": [
       "<div>\n",
       "<style scoped>\n",
       "    .dataframe tbody tr th:only-of-type {\n",
       "        vertical-align: middle;\n",
       "    }\n",
       "\n",
       "    .dataframe tbody tr th {\n",
       "        vertical-align: top;\n",
       "    }\n",
       "\n",
       "    .dataframe thead th {\n",
       "        text-align: right;\n",
       "    }\n",
       "</style>\n",
       "<table border=\"1\" class=\"dataframe\">\n",
       "  <thead>\n",
       "    <tr style=\"text-align: right;\">\n",
       "      <th></th>\n",
       "      <th>Name</th>\n",
       "      <th>Season</th>\n",
       "      <th>Month</th>\n",
       "      <th>Max. sustained winds(mph)</th>\n",
       "      <th>Minimum pressure(mbar)</th>\n",
       "    </tr>\n",
       "  </thead>\n",
       "  <tbody>\n",
       "    <tr>\n",
       "      <th>0</th>\n",
       "      <td>Hurricane #3</td>\n",
       "      <td>1853</td>\n",
       "      <td>1</td>\n",
       "      <td>150</td>\n",
       "      <td>924</td>\n",
       "    </tr>\n",
       "    <tr>\n",
       "      <th>1</th>\n",
       "      <td>Hurricane #3</td>\n",
       "      <td>1853</td>\n",
       "      <td>2</td>\n",
       "      <td>150</td>\n",
       "      <td>924</td>\n",
       "    </tr>\n",
       "    <tr>\n",
       "      <th>2</th>\n",
       "      <td>\"1856 Last Island Hurricane\"</td>\n",
       "      <td>1856</td>\n",
       "      <td>1</td>\n",
       "      <td>150</td>\n",
       "      <td>934</td>\n",
       "    </tr>\n",
       "    <tr>\n",
       "      <th>3</th>\n",
       "      <td>Hurricane #6</td>\n",
       "      <td>1866</td>\n",
       "      <td>2</td>\n",
       "      <td>140</td>\n",
       "      <td>938</td>\n",
       "    </tr>\n",
       "    <tr>\n",
       "      <th>4</th>\n",
       "      <td>Hurricane #6</td>\n",
       "      <td>1866</td>\n",
       "      <td>3</td>\n",
       "      <td>140</td>\n",
       "      <td>938</td>\n",
       "    </tr>\n",
       "    <tr>\n",
       "      <th>...</th>\n",
       "      <td>...</td>\n",
       "      <td>...</td>\n",
       "      <td>...</td>\n",
       "      <td>...</td>\n",
       "      <td>...</td>\n",
       "    </tr>\n",
       "    <tr>\n",
       "      <th>132</th>\n",
       "      <td>Hurricane Fabian</td>\n",
       "      <td>2003</td>\n",
       "      <td>2</td>\n",
       "      <td>145</td>\n",
       "      <td>939</td>\n",
       "    </tr>\n",
       "    <tr>\n",
       "      <th>133</th>\n",
       "      <td>Hurricane Charley</td>\n",
       "      <td>2004</td>\n",
       "      <td>1</td>\n",
       "      <td>150</td>\n",
       "      <td>941</td>\n",
       "    </tr>\n",
       "    <tr>\n",
       "      <th>134</th>\n",
       "      <td>Hurricane Frances</td>\n",
       "      <td>2004</td>\n",
       "      <td>1</td>\n",
       "      <td>145</td>\n",
       "      <td>935</td>\n",
       "    </tr>\n",
       "    <tr>\n",
       "      <th>135</th>\n",
       "      <td>Hurricane Frances</td>\n",
       "      <td>2004</td>\n",
       "      <td>2</td>\n",
       "      <td>145</td>\n",
       "      <td>935</td>\n",
       "    </tr>\n",
       "    <tr>\n",
       "      <th>136</th>\n",
       "      <td>Hurricane Karl</td>\n",
       "      <td>2004</td>\n",
       "      <td>2</td>\n",
       "      <td>145</td>\n",
       "      <td>938</td>\n",
       "    </tr>\n",
       "  </tbody>\n",
       "</table>\n",
       "<p>137 rows × 5 columns</p>\n",
       "</div>"
      ],
      "text/plain": [
       "                             Name  Season  Month  Max. sustained winds(mph)  \\\n",
       "0                    Hurricane #3    1853      1                        150   \n",
       "1                    Hurricane #3    1853      2                        150   \n",
       "2    \"1856 Last Island Hurricane\"    1856      1                        150   \n",
       "3                    Hurricane #6    1866      2                        140   \n",
       "4                    Hurricane #6    1866      3                        140   \n",
       "..                            ...     ...    ...                        ...   \n",
       "132              Hurricane Fabian    2003      2                        145   \n",
       "133             Hurricane Charley    2004      1                        150   \n",
       "134             Hurricane Frances    2004      1                        145   \n",
       "135             Hurricane Frances    2004      2                        145   \n",
       "136                Hurricane Karl    2004      2                        145   \n",
       "\n",
       "     Minimum pressure(mbar)  \n",
       "0                       924  \n",
       "1                       924  \n",
       "2                       934  \n",
       "3                       938  \n",
       "4                       938  \n",
       "..                      ...  \n",
       "132                     939  \n",
       "133                     941  \n",
       "134                     935  \n",
       "135                     935  \n",
       "136                     938  \n",
       "\n",
       "[137 rows x 5 columns]"
      ]
     },
     "execution_count": 19,
     "metadata": {},
     "output_type": "execute_result"
    }
   ],
   "source": [
    "df"
   ]
  },
  {
   "cell_type": "code",
   "execution_count": 20,
   "metadata": {},
   "outputs": [
    {
     "data": {
      "text/html": [
       "<div>\n",
       "<style scoped>\n",
       "    .dataframe tbody tr th:only-of-type {\n",
       "        vertical-align: middle;\n",
       "    }\n",
       "\n",
       "    .dataframe tbody tr th {\n",
       "        vertical-align: top;\n",
       "    }\n",
       "\n",
       "    .dataframe thead th {\n",
       "        text-align: right;\n",
       "    }\n",
       "</style>\n",
       "<table border=\"1\" class=\"dataframe\">\n",
       "  <thead>\n",
       "    <tr style=\"text-align: right;\">\n",
       "      <th></th>\n",
       "      <th>Name</th>\n",
       "      <th>Season</th>\n",
       "      <th>Month</th>\n",
       "      <th>Max. sustained winds(mph)</th>\n",
       "      <th>Minimum pressure(mbar)</th>\n",
       "    </tr>\n",
       "  </thead>\n",
       "  <tbody>\n",
       "    <tr>\n",
       "      <th>0</th>\n",
       "      <td>Hurricane #3</td>\n",
       "      <td>1853</td>\n",
       "      <td>1</td>\n",
       "      <td>150</td>\n",
       "      <td>924</td>\n",
       "    </tr>\n",
       "    <tr>\n",
       "      <th>1</th>\n",
       "      <td>Hurricane #3</td>\n",
       "      <td>1853</td>\n",
       "      <td>2</td>\n",
       "      <td>150</td>\n",
       "      <td>924</td>\n",
       "    </tr>\n",
       "    <tr>\n",
       "      <th>2</th>\n",
       "      <td>\"1856 Last Island Hurricane\"</td>\n",
       "      <td>1856</td>\n",
       "      <td>1</td>\n",
       "      <td>150</td>\n",
       "      <td>934</td>\n",
       "    </tr>\n",
       "    <tr>\n",
       "      <th>3</th>\n",
       "      <td>Hurricane #6</td>\n",
       "      <td>1866</td>\n",
       "      <td>2</td>\n",
       "      <td>140</td>\n",
       "      <td>938</td>\n",
       "    </tr>\n",
       "    <tr>\n",
       "      <th>4</th>\n",
       "      <td>Hurricane #6</td>\n",
       "      <td>1866</td>\n",
       "      <td>3</td>\n",
       "      <td>140</td>\n",
       "      <td>938</td>\n",
       "    </tr>\n",
       "    <tr>\n",
       "      <th>...</th>\n",
       "      <td>...</td>\n",
       "      <td>...</td>\n",
       "      <td>...</td>\n",
       "      <td>...</td>\n",
       "      <td>...</td>\n",
       "    </tr>\n",
       "    <tr>\n",
       "      <th>132</th>\n",
       "      <td>Hurricane Fabian</td>\n",
       "      <td>2003</td>\n",
       "      <td>2</td>\n",
       "      <td>145</td>\n",
       "      <td>939</td>\n",
       "    </tr>\n",
       "    <tr>\n",
       "      <th>133</th>\n",
       "      <td>Hurricane Charley</td>\n",
       "      <td>2004</td>\n",
       "      <td>1</td>\n",
       "      <td>150</td>\n",
       "      <td>941</td>\n",
       "    </tr>\n",
       "    <tr>\n",
       "      <th>134</th>\n",
       "      <td>Hurricane Frances</td>\n",
       "      <td>2004</td>\n",
       "      <td>1</td>\n",
       "      <td>145</td>\n",
       "      <td>935</td>\n",
       "    </tr>\n",
       "    <tr>\n",
       "      <th>135</th>\n",
       "      <td>Hurricane Frances</td>\n",
       "      <td>2004</td>\n",
       "      <td>2</td>\n",
       "      <td>145</td>\n",
       "      <td>935</td>\n",
       "    </tr>\n",
       "    <tr>\n",
       "      <th>136</th>\n",
       "      <td>Hurricane Karl</td>\n",
       "      <td>2004</td>\n",
       "      <td>2</td>\n",
       "      <td>145</td>\n",
       "      <td>938</td>\n",
       "    </tr>\n",
       "  </tbody>\n",
       "</table>\n",
       "<p>137 rows × 5 columns</p>\n",
       "</div>"
      ],
      "text/plain": [
       "                             Name  Season  Month  Max. sustained winds(mph)  \\\n",
       "0                    Hurricane #3    1853      1                        150   \n",
       "1                    Hurricane #3    1853      2                        150   \n",
       "2    \"1856 Last Island Hurricane\"    1856      1                        150   \n",
       "3                    Hurricane #6    1866      2                        140   \n",
       "4                    Hurricane #6    1866      3                        140   \n",
       "..                            ...     ...    ...                        ...   \n",
       "132              Hurricane Fabian    2003      2                        145   \n",
       "133             Hurricane Charley    2004      1                        150   \n",
       "134             Hurricane Frances    2004      1                        145   \n",
       "135             Hurricane Frances    2004      2                        145   \n",
       "136                Hurricane Karl    2004      2                        145   \n",
       "\n",
       "     Minimum pressure(mbar)  \n",
       "0                       924  \n",
       "1                       924  \n",
       "2                       934  \n",
       "3                       938  \n",
       "4                       938  \n",
       "..                      ...  \n",
       "132                     939  \n",
       "133                     941  \n",
       "134                     935  \n",
       "135                     935  \n",
       "136                     938  \n",
       "\n",
       "[137 rows x 5 columns]"
      ]
     },
     "execution_count": 20,
     "metadata": {},
     "output_type": "execute_result"
    }
   ],
   "source": [
    "df"
   ]
  },
  {
   "cell_type": "code",
   "execution_count": 21,
   "metadata": {},
   "outputs": [
    {
     "data": {
      "text/plain": [
       "<bound method IndexOpsMixin.value_counts of 0      1\n",
       "1      2\n",
       "2      1\n",
       "3      2\n",
       "4      3\n",
       "      ..\n",
       "132    2\n",
       "133    1\n",
       "134    1\n",
       "135    2\n",
       "136    2\n",
       "Name: Month, Length: 137, dtype: int64>"
      ]
     },
     "execution_count": 21,
     "metadata": {},
     "output_type": "execute_result"
    }
   ],
   "source": [
    "df['Month'].value_counts"
   ]
  },
  {
   "cell_type": "code",
   "execution_count": 22,
   "metadata": {},
   "outputs": [
    {
     "data": {
      "text/html": [
       "<div>\n",
       "<style scoped>\n",
       "    .dataframe tbody tr th:only-of-type {\n",
       "        vertical-align: middle;\n",
       "    }\n",
       "\n",
       "    .dataframe tbody tr th {\n",
       "        vertical-align: top;\n",
       "    }\n",
       "\n",
       "    .dataframe thead th {\n",
       "        text-align: right;\n",
       "    }\n",
       "</style>\n",
       "<table border=\"1\" class=\"dataframe\">\n",
       "  <thead>\n",
       "    <tr style=\"text-align: right;\">\n",
       "      <th></th>\n",
       "      <th>Name</th>\n",
       "      <th>Season</th>\n",
       "      <th>Month</th>\n",
       "      <th>Max. sustained winds(mph)</th>\n",
       "      <th>Minimum pressure(mbar)</th>\n",
       "    </tr>\n",
       "  </thead>\n",
       "  <tbody>\n",
       "    <tr>\n",
       "      <th>0</th>\n",
       "      <td>Hurricane #3</td>\n",
       "      <td>1853</td>\n",
       "      <td>1</td>\n",
       "      <td>150</td>\n",
       "      <td>924</td>\n",
       "    </tr>\n",
       "    <tr>\n",
       "      <th>1</th>\n",
       "      <td>Hurricane #3</td>\n",
       "      <td>1853</td>\n",
       "      <td>2</td>\n",
       "      <td>150</td>\n",
       "      <td>924</td>\n",
       "    </tr>\n",
       "    <tr>\n",
       "      <th>2</th>\n",
       "      <td>\"1856 Last Island Hurricane\"</td>\n",
       "      <td>1856</td>\n",
       "      <td>1</td>\n",
       "      <td>150</td>\n",
       "      <td>934</td>\n",
       "    </tr>\n",
       "    <tr>\n",
       "      <th>3</th>\n",
       "      <td>Hurricane #6</td>\n",
       "      <td>1866</td>\n",
       "      <td>2</td>\n",
       "      <td>140</td>\n",
       "      <td>938</td>\n",
       "    </tr>\n",
       "    <tr>\n",
       "      <th>4</th>\n",
       "      <td>Hurricane #6</td>\n",
       "      <td>1866</td>\n",
       "      <td>3</td>\n",
       "      <td>140</td>\n",
       "      <td>938</td>\n",
       "    </tr>\n",
       "    <tr>\n",
       "      <th>...</th>\n",
       "      <td>...</td>\n",
       "      <td>...</td>\n",
       "      <td>...</td>\n",
       "      <td>...</td>\n",
       "      <td>...</td>\n",
       "    </tr>\n",
       "    <tr>\n",
       "      <th>132</th>\n",
       "      <td>Hurricane Fabian</td>\n",
       "      <td>2003</td>\n",
       "      <td>2</td>\n",
       "      <td>145</td>\n",
       "      <td>939</td>\n",
       "    </tr>\n",
       "    <tr>\n",
       "      <th>133</th>\n",
       "      <td>Hurricane Charley</td>\n",
       "      <td>2004</td>\n",
       "      <td>1</td>\n",
       "      <td>150</td>\n",
       "      <td>941</td>\n",
       "    </tr>\n",
       "    <tr>\n",
       "      <th>134</th>\n",
       "      <td>Hurricane Frances</td>\n",
       "      <td>2004</td>\n",
       "      <td>1</td>\n",
       "      <td>145</td>\n",
       "      <td>935</td>\n",
       "    </tr>\n",
       "    <tr>\n",
       "      <th>135</th>\n",
       "      <td>Hurricane Frances</td>\n",
       "      <td>2004</td>\n",
       "      <td>2</td>\n",
       "      <td>145</td>\n",
       "      <td>935</td>\n",
       "    </tr>\n",
       "    <tr>\n",
       "      <th>136</th>\n",
       "      <td>Hurricane Karl</td>\n",
       "      <td>2004</td>\n",
       "      <td>2</td>\n",
       "      <td>145</td>\n",
       "      <td>938</td>\n",
       "    </tr>\n",
       "  </tbody>\n",
       "</table>\n",
       "<p>137 rows × 5 columns</p>\n",
       "</div>"
      ],
      "text/plain": [
       "                             Name  Season  Month  Max. sustained winds(mph)  \\\n",
       "0                    Hurricane #3    1853      1                        150   \n",
       "1                    Hurricane #3    1853      2                        150   \n",
       "2    \"1856 Last Island Hurricane\"    1856      1                        150   \n",
       "3                    Hurricane #6    1866      2                        140   \n",
       "4                    Hurricane #6    1866      3                        140   \n",
       "..                            ...     ...    ...                        ...   \n",
       "132              Hurricane Fabian    2003      2                        145   \n",
       "133             Hurricane Charley    2004      1                        150   \n",
       "134             Hurricane Frances    2004      1                        145   \n",
       "135             Hurricane Frances    2004      2                        145   \n",
       "136                Hurricane Karl    2004      2                        145   \n",
       "\n",
       "     Minimum pressure(mbar)  \n",
       "0                       924  \n",
       "1                       924  \n",
       "2                       934  \n",
       "3                       938  \n",
       "4                       938  \n",
       "..                      ...  \n",
       "132                     939  \n",
       "133                     941  \n",
       "134                     935  \n",
       "135                     935  \n",
       "136                     938  \n",
       "\n",
       "[137 rows x 5 columns]"
      ]
     },
     "execution_count": 22,
     "metadata": {},
     "output_type": "execute_result"
    }
   ],
   "source": [
    "df"
   ]
  },
  {
   "cell_type": "code",
   "execution_count": 23,
   "metadata": {},
   "outputs": [
    {
     "name": "stdout",
     "output_type": "stream",
     "text": [
      "Correlation coefficient (r): 0.00900011347953533\n",
      "Calculated t-value: 0.10457610438545846\n",
      "Critical t-value at 5% significance level: 1.977692277222804\n",
      "Fail to reject the null hypothesis: No significant dependence on the month.\n"
     ]
    }
   ],
   "source": [
    "# Calculate correlation coefficient r\n",
    "r = np.corrcoef(df['Max. sustained winds(mph)'],df['Month'] )[0, 1]\n",
    "alpha = 0.05\n",
    "# Calculate the t-value\n",
    "n = df.shape[0]\n",
    "t_value = r * np.sqrt((n - 2) / (1 - r**2))\n",
    "degrees = n-2\n",
    "# Calculate the critical value\n",
    "critical_value = t.ppf(1 - alpha/2, degrees)\n",
    "\n",
    "# Output results\n",
    "print(f\"Correlation coefficient (r): {r}\")\n",
    "print(f\"Calculated t-value: {t_value}\")\n",
    "print(f\"Critical t-value at 5% significance level: {critical_value}\")\n",
    "\n",
    "# Decision\n",
    "if  abs(t_value) > critical_value:\n",
    "    print(\"Reject the null hypothesis: Max sustained winds depend on the month of occurrence.\")\n",
    "else:\n",
    "    print(\"Fail to reject the null hypothesis: No significant dependence on the month.\")"
   ]
  },
  {
   "cell_type": "code",
   "execution_count": 24,
   "metadata": {},
   "outputs": [
    {
     "name": "stdout",
     "output_type": "stream",
     "text": [
      "The critical value is: 1.978\n"
     ]
    }
   ],
   "source": [
    "degrees = n-2\n",
    "\n",
    "critical_value = t.ppf(1 - alpha/2, degrees)\n",
    "\n",
    "# Print the critical value\n",
    "print(f\"The critical value is: {critical_value:.3f}\")"
   ]
  },
  {
   "cell_type": "code",
   "execution_count": 25,
   "metadata": {},
   "outputs": [
    {
     "name": "stdout",
     "output_type": "stream",
     "text": [
      "Rejecting the NULL Hypothesis\n"
     ]
    }
   ],
   "source": [
    "if (t_value < critical_value):\n",
    "    print(\"Rejecting the NULL Hypothesis\")\n",
    "else:\n",
    "    print(\"Failed to reject the NULL Hypothesis\")"
   ]
  },
  {
   "cell_type": "markdown",
   "metadata": {},
   "source": [
    "c. With a 10% level of significance conduct test if “Max. sustained winds(mph)” follows a Poisson distribution."
   ]
  },
  {
   "cell_type": "code",
   "execution_count": 31,
   "metadata": {},
   "outputs": [
    {
     "name": "stdout",
     "output_type": "stream",
     "text": [
      "142.33576642335765\n",
      "Observed Frequencies:\n",
      " Max. sustained winds(mph)\n",
      "130    28\n",
      "140    39\n",
      "145    33\n",
      "150    24\n",
      "155    13\n",
      "Name: count, dtype: int64\n",
      "Expected Frequencies:\n",
      " [21.14459376472458, 34.66753441054795, 33.87811106758004, 27.879178668675344, 19.430582088472068]\n",
      "Sum of Observed Frequencies: 137\n",
      "Sum of Expected Frequencies: 137.0\n",
      "Chi-square statistic: 5.4547959472372565\n",
      "P-value: 0.2437316198723859\n",
      "Fail to reject the null hypothesis: Winds follow a Poisson distribution.\n"
     ]
    }
   ],
   "source": [
    "import pandas as pd\n",
    "from scipy.stats import poisson, chisquare\n",
    "\n",
    "# Assuming df is already defined and contains 'Max. sustained winds(mph)'\n",
    "winds = df['Max. sustained winds(mph)']\n",
    "\n",
    "mean_wind = winds.mean()\n",
    "print(mean_wind)\n",
    "# Generate observed frequencies (assuming wind speeds are integers)\n",
    "observed_freq = winds.value_counts().sort_index()\n",
    "print(\"Observed Frequencies:\\n\", observed_freq)\n",
    "\n",
    "# Generate Poisson probabilities for the observed values\n",
    "total = len(winds)\n",
    "expected_freq = [poisson.pmf(k, mean_wind)  for k in observed_freq.index]\n",
    "total2 = sum(expected_freq)\n",
    "expected_freq = [prob * total/total2 for prob in expected_freq]\n",
    "print(\"Expected Frequencies:\\n\", expected_freq)\n",
    "\n",
    "# Check sums\n",
    "print(\"Sum of Observed Frequencies:\", observed_freq.sum())\n",
    "print(\"Sum of Expected Frequencies:\", sum(expected_freq))\n",
    "\n",
    "# Ensure lengths are the same\n",
    "if len(observed_freq) != len(expected_freq):\n",
    "    print(\"Length mismatch: Adjust expected frequencies to match observed frequencies.\")\n",
    "else:\n",
    "    chi_square_stat, p_value = chisquare(f_obs=observed_freq, f_exp=expected_freq)\n",
    "\n",
    "    print(f\"Chi-square statistic: {chi_square_stat}\")\n",
    "    print(f\"P-value: {p_value}\")\n",
    "\n",
    "    # Check significance at 10% level\n",
    "    if p_value < 0.10:\n",
    "        print(\"Reject the null hypothesis: Winds do not follow a Poisson distribution.\")\n",
    "    else:\n",
    "        print(\"Fail to reject the null hypothesis: Winds follow a Poisson distribution.\")\n"
   ]
  },
  {
   "cell_type": "code",
   "execution_count": 34,
   "metadata": {},
   "outputs": [
    {
     "name": "stdout",
     "output_type": "stream",
     "text": [
      "Observed Frequencies:\n",
      " Max. sustained winds(mph)\n",
      "130    28\n",
      "140    39\n",
      "145    33\n",
      "150    24\n",
      "155    13\n",
      "Name: count, dtype: int64\n",
      "Expected Frequencies:\n",
      " Max. sustained winds(mph)\n",
      "130    2.761946\n",
      "140    4.528338\n",
      "145    4.425222\n",
      "150    3.641630\n",
      "155    2.538059\n",
      "dtype: float64\n",
      "Sum of Observed Frequencies: 137\n",
      "Sum of Expected Frequencies: 17.895195365650657\n",
      "Chi-square statistic (manual calculation): 834.4844091739852\n",
      "Critical value at 10.0% significance level: 7.779440339734858\n",
      "P-value (manual calculation): 0.0\n",
      "Reject the null hypothesis: Winds do not follow a Poisson distribution.\n"
     ]
    }
   ],
   "source": [
    "import pandas as pd\n",
    "from scipy.stats import poisson,chi2\n",
    "import numpy as np\n",
    "\n",
    "# Assuming df is already defined and contains 'Max. sustained winds(mph)'\n",
    "winds = df['Max. sustained winds(mph)']\n",
    "\n",
    "mean_wind = winds.mean()\n",
    "\n",
    "# Generate observed frequencies (assuming wind speeds are integers)\n",
    "observed_freq = winds.value_counts().sort_index()\n",
    "print(\"Observed Frequencies:\\n\", observed_freq)\n",
    "\n",
    "# Generate Poisson probabilities for the observed values\n",
    "total = len(winds)\n",
    "expected_freq = [poisson.pmf(k, mean_wind) * total for k in observed_freq.index]\n",
    "\n",
    "# Ensure expected_freq is a Series with the same index as observed_freq\n",
    "expected_freq_series = pd.Series(expected_freq, index=observed_freq.index).fillna(0)\n",
    "\n",
    "print(\"Expected Frequencies:\\n\", expected_freq_series)\n",
    "\n",
    "# Check sums\n",
    "print(\"Sum of Observed Frequencies:\", observed_freq.sum())\n",
    "print(\"Sum of Expected Frequencies:\", expected_freq_series.sum())\n",
    "\n",
    "# Calculate chi-square statistic from scratch\n",
    "chi_square_stat = np.sum((observed_freq - expected_freq_series) ** 2 / expected_freq_series)\n",
    "\n",
    "print(f\"Chi-square statistic (manual calculation): {chi_square_stat}\")\n",
    "\n",
    "# Degrees of freedom\n",
    "degrees_of_freedom = len(winds.value_counts()) - 1\n",
    "alpha = 0.10\n",
    "critical_value = chi2.ppf(1 - alpha, degrees_of_freedom)\n",
    "print(f\"Critical value at {alpha*100}% significance level: {critical_value}\")  #change\n",
    "\n",
    "# Calculate p-value using the chi-square distribution\n",
    "from scipy.stats import chi2\n",
    "p_value = 1 - chi2.cdf(chi_square_stat, degrees_of_freedom)\n",
    "\n",
    "print(f\"P-value (manual calculation): {p_value}\")\n",
    "\n",
    "# Check significance at 10% level\n",
    "if p_value < 0.10:\n",
    "    print(\"Reject the null hypothesis: Winds do not follow a Poisson distribution.\")\n",
    "else:\n",
    "    print(\"Fail to reject the null hypothesis: Winds follow a Poisson distribution.\")\n"
   ]
  }
 ],
 "metadata": {
  "kernelspec": {
   "display_name": "base",
   "language": "python",
   "name": "python3"
  },
  "language_info": {
   "codemirror_mode": {
    "name": "ipython",
    "version": 3
   },
   "file_extension": ".py",
   "mimetype": "text/x-python",
   "name": "python",
   "nbconvert_exporter": "python",
   "pygments_lexer": "ipython3",
   "version": "3.11.5"
  }
 },
 "nbformat": 4,
 "nbformat_minor": 2
}
