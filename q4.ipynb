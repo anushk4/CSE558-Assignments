{
 "cells": [
  {
   "cell_type": "code",
   "execution_count": 41,
   "metadata": {},
   "outputs": [],
   "source": [
    "import pandas as pd\n",
    "import numpy as np\n",
    "from scipy.stats import t, pearsonr\n",
    "import statsmodels.api as sm\n",
    "from statsmodels.formula.api import ols\n",
    "from scipy.stats import chisquare, poisson"
   ]
  },
  {
   "cell_type": "code",
   "execution_count": 42,
   "metadata": {},
   "outputs": [
    {
     "data": {
      "text/html": [
       "<div>\n",
       "<style scoped>\n",
       "    .dataframe tbody tr th:only-of-type {\n",
       "        vertical-align: middle;\n",
       "    }\n",
       "\n",
       "    .dataframe tbody tr th {\n",
       "        vertical-align: top;\n",
       "    }\n",
       "\n",
       "    .dataframe thead th {\n",
       "        text-align: right;\n",
       "    }\n",
       "</style>\n",
       "<table border=\"1\" class=\"dataframe\">\n",
       "  <thead>\n",
       "    <tr style=\"text-align: right;\">\n",
       "      <th></th>\n",
       "      <th>Name</th>\n",
       "      <th>Season</th>\n",
       "      <th>Month</th>\n",
       "      <th>Max. sustained winds(mph)</th>\n",
       "      <th>Minimum pressure(mbar)</th>\n",
       "    </tr>\n",
       "  </thead>\n",
       "  <tbody>\n",
       "    <tr>\n",
       "      <th>0</th>\n",
       "      <td>Hurricane #3</td>\n",
       "      <td>1853</td>\n",
       "      <td>August, September</td>\n",
       "      <td>150</td>\n",
       "      <td>924</td>\n",
       "    </tr>\n",
       "    <tr>\n",
       "      <th>1</th>\n",
       "      <td>\"1856 Last Island Hurricane\"</td>\n",
       "      <td>1856</td>\n",
       "      <td>August</td>\n",
       "      <td>150</td>\n",
       "      <td>934</td>\n",
       "    </tr>\n",
       "    <tr>\n",
       "      <th>2</th>\n",
       "      <td>Hurricane #6</td>\n",
       "      <td>1866</td>\n",
       "      <td>September, October</td>\n",
       "      <td>140</td>\n",
       "      <td>938</td>\n",
       "    </tr>\n",
       "    <tr>\n",
       "      <th>3</th>\n",
       "      <td>Hurricane #7</td>\n",
       "      <td>1878</td>\n",
       "      <td>September, October</td>\n",
       "      <td>140</td>\n",
       "      <td>938</td>\n",
       "    </tr>\n",
       "    <tr>\n",
       "      <th>4</th>\n",
       "      <td>Hurricane #2</td>\n",
       "      <td>1880</td>\n",
       "      <td>August</td>\n",
       "      <td>150</td>\n",
       "      <td>931</td>\n",
       "    </tr>\n",
       "  </tbody>\n",
       "</table>\n",
       "</div>"
      ],
      "text/plain": [
       "                           Name  Season               Month  \\\n",
       "0                  Hurricane #3    1853   August, September   \n",
       "1  \"1856 Last Island Hurricane\"    1856              August   \n",
       "2                  Hurricane #6    1866  September, October   \n",
       "3                  Hurricane #7    1878  September, October   \n",
       "4                  Hurricane #2    1880              August   \n",
       "\n",
       "   Max. sustained winds(mph)  Minimum pressure(mbar)  \n",
       "0                        150                     924  \n",
       "1                        150                     934  \n",
       "2                        140                     938  \n",
       "3                        140                     938  \n",
       "4                        150                     931  "
      ]
     },
     "execution_count": 42,
     "metadata": {},
     "output_type": "execute_result"
    }
   ],
   "source": [
    "df = pd.read_csv('./Datasets/Hurricane.csv')\n",
    "df.head()"
   ]
  },
  {
   "cell_type": "code",
   "execution_count": 43,
   "metadata": {},
   "outputs": [
    {
     "data": {
      "text/plain": [
       "(101, 5)"
      ]
     },
     "execution_count": 43,
     "metadata": {},
     "output_type": "execute_result"
    }
   ],
   "source": [
    "df.shape"
   ]
  },
  {
   "cell_type": "code",
   "execution_count": 44,
   "metadata": {},
   "outputs": [
    {
     "data": {
      "text/html": [
       "<div>\n",
       "<style scoped>\n",
       "    .dataframe tbody tr th:only-of-type {\n",
       "        vertical-align: middle;\n",
       "    }\n",
       "\n",
       "    .dataframe tbody tr th {\n",
       "        vertical-align: top;\n",
       "    }\n",
       "\n",
       "    .dataframe thead th {\n",
       "        text-align: right;\n",
       "    }\n",
       "</style>\n",
       "<table border=\"1\" class=\"dataframe\">\n",
       "  <thead>\n",
       "    <tr style=\"text-align: right;\">\n",
       "      <th></th>\n",
       "      <th>Name</th>\n",
       "      <th>Season</th>\n",
       "      <th>Month</th>\n",
       "      <th>Max. sustained winds(mph)</th>\n",
       "      <th>Minimum pressure(mbar)</th>\n",
       "    </tr>\n",
       "  </thead>\n",
       "  <tbody>\n",
       "    <tr>\n",
       "      <th>0</th>\n",
       "      <td>Hurricane #3</td>\n",
       "      <td>1853</td>\n",
       "      <td>August</td>\n",
       "      <td>150</td>\n",
       "      <td>924</td>\n",
       "    </tr>\n",
       "    <tr>\n",
       "      <th>1</th>\n",
       "      <td>Hurricane #3</td>\n",
       "      <td>1853</td>\n",
       "      <td>September</td>\n",
       "      <td>150</td>\n",
       "      <td>924</td>\n",
       "    </tr>\n",
       "    <tr>\n",
       "      <th>2</th>\n",
       "      <td>\"1856 Last Island Hurricane\"</td>\n",
       "      <td>1856</td>\n",
       "      <td>August</td>\n",
       "      <td>150</td>\n",
       "      <td>934</td>\n",
       "    </tr>\n",
       "    <tr>\n",
       "      <th>3</th>\n",
       "      <td>Hurricane #6</td>\n",
       "      <td>1866</td>\n",
       "      <td>September</td>\n",
       "      <td>140</td>\n",
       "      <td>938</td>\n",
       "    </tr>\n",
       "    <tr>\n",
       "      <th>4</th>\n",
       "      <td>Hurricane #6</td>\n",
       "      <td>1866</td>\n",
       "      <td>October</td>\n",
       "      <td>140</td>\n",
       "      <td>938</td>\n",
       "    </tr>\n",
       "  </tbody>\n",
       "</table>\n",
       "</div>"
      ],
      "text/plain": [
       "                           Name  Season      Month  Max. sustained winds(mph)  \\\n",
       "0                  Hurricane #3    1853     August                        150   \n",
       "1                  Hurricane #3    1853  September                        150   \n",
       "2  \"1856 Last Island Hurricane\"    1856     August                        150   \n",
       "3                  Hurricane #6    1866  September                        140   \n",
       "4                  Hurricane #6    1866    October                        140   \n",
       "\n",
       "   Minimum pressure(mbar)  \n",
       "0                     924  \n",
       "1                     924  \n",
       "2                     934  \n",
       "3                     938  \n",
       "4                     938  "
      ]
     },
     "execution_count": 44,
     "metadata": {},
     "output_type": "execute_result"
    }
   ],
   "source": [
    "df = df.assign(Month=df['Month'].str.split(', ')).explode('Month').reset_index(drop=True)\n",
    "df.head()"
   ]
  },
  {
   "cell_type": "code",
   "execution_count": 45,
   "metadata": {},
   "outputs": [
    {
     "data": {
      "text/plain": [
       "(137, 5)"
      ]
     },
     "execution_count": 45,
     "metadata": {},
     "output_type": "execute_result"
    }
   ],
   "source": [
    "df.shape"
   ]
  },
  {
   "cell_type": "markdown",
   "metadata": {},
   "source": [
    "a. With a 1% level of significance conduct t-test for correlation coefficient between “Max. sustained winds(mph)” and “Minimum pressure (mbar)”."
   ]
  },
  {
   "cell_type": "code",
   "execution_count": 46,
   "metadata": {},
   "outputs": [
    {
     "data": {
      "text/plain": [
       "-6.06772854436473"
      ]
     },
     "execution_count": 46,
     "metadata": {},
     "output_type": "execute_result"
    }
   ],
   "source": [
    "alpha = 0.01\n",
    "n = df.shape[0]\n",
    "r = np.corrcoef(df[\"Max. sustained winds(mph)\"], df[\"Minimum pressure(mbar)\"])[0, 1]\n",
    "t_value = r / np.sqrt((1 - r**2) / (n - 2))\n",
    "t_value"
   ]
  },
  {
   "cell_type": "code",
   "execution_count": 47,
   "metadata": {},
   "outputs": [
    {
     "data": {
      "text/plain": [
       "1.0"
      ]
     },
     "execution_count": 47,
     "metadata": {},
     "output_type": "execute_result"
    }
   ],
   "source": [
    "degrees = n - 2\n",
    "p_value_lower = t.cdf(-np.abs(t_value), degrees)\n",
    "p_value_upper = 1 - t.cdf(t_value, degrees)\n",
    "p_value = p_value_lower + p_value_upper\n",
    "p_value"
   ]
  },
  {
   "cell_type": "code",
   "execution_count": 48,
   "metadata": {},
   "outputs": [
    {
     "name": "stdout",
     "output_type": "stream",
     "text": [
      "6.151952317370102e-09 0.9999999938480477\n"
     ]
    }
   ],
   "source": [
    "print(p_value_lower, p_value_upper)"
   ]
  },
  {
   "cell_type": "code",
   "execution_count": 49,
   "metadata": {},
   "outputs": [
    {
     "data": {
      "text/plain": [
       "False"
      ]
     },
     "execution_count": 49,
     "metadata": {},
     "output_type": "execute_result"
    }
   ],
   "source": [
    "p_value < alpha"
   ]
  },
  {
   "cell_type": "code",
   "execution_count": 50,
   "metadata": {},
   "outputs": [
    {
     "data": {
      "text/plain": [
       "PearsonRResult(statistic=-0.46290584088602715, pvalue=1.2303904634740846e-08)"
      ]
     },
     "execution_count": 50,
     "metadata": {},
     "output_type": "execute_result"
    }
   ],
   "source": [
    "test_result = pearsonr(df[\"Max. sustained winds(mph)\"], df[\"Minimum pressure(mbar)\"])\n",
    "test_result"
   ]
  },
  {
   "cell_type": "code",
   "execution_count": 51,
   "metadata": {},
   "outputs": [
    {
     "data": {
      "text/plain": [
       "1.2303904634740846e-08"
      ]
     },
     "execution_count": 51,
     "metadata": {},
     "output_type": "execute_result"
    }
   ],
   "source": [
    "test_result.pvalue"
   ]
  },
  {
   "cell_type": "code",
   "execution_count": 52,
   "metadata": {},
   "outputs": [
    {
     "data": {
      "text/plain": [
       "ConfidenceInterval(low=-0.5851892925012568, high=-0.3200368904005088)"
      ]
     },
     "execution_count": 52,
     "metadata": {},
     "output_type": "execute_result"
    }
   ],
   "source": [
    "test_result.confidence_interval()"
   ]
  },
  {
   "cell_type": "code",
   "execution_count": 53,
   "metadata": {},
   "outputs": [
    {
     "name": "stdout",
     "output_type": "stream",
     "text": [
      "Pearson correlation: -0.46290584088602715\n",
      "P-value: 1.2303904634740846e-08\n",
      "Reject the null hypothesis: Significant correlation.\n"
     ]
    }
   ],
   "source": [
    "# Extract relevant columns\n",
    "winds = df['Max. sustained winds(mph)']\n",
    "pressure = df['Minimum pressure(mbar)']\n",
    "\n",
    "# Calculate Pearson correlation\n",
    "correlation, p_value = pearsonr(winds, pressure)\n",
    "\n",
    "# Display the result\n",
    "print(f\"Pearson correlation: {correlation}\")\n",
    "print(f\"P-value: {p_value}\")\n",
    "\n",
    "# Test the significance at 1% level\n",
    "if p_value < 0.01:\n",
    "    print(\"Reject the null hypothesis: Significant correlation.\")\n",
    "else:\n",
    "    print(\"Fail to reject the null hypothesis: No significant correlation.\")\n"
   ]
  },
  {
   "cell_type": "code",
   "execution_count": 54,
   "metadata": {},
   "outputs": [
    {
     "data": {
      "text/plain": [
       "Max. sustained winds(mph)    1.000000\n",
       "Season                       0.066874\n",
       "Minimum pressure(mbar)      -0.462906\n",
       "Name: Max. sustained winds(mph), dtype: float64"
      ]
     },
     "execution_count": 54,
     "metadata": {},
     "output_type": "execute_result"
    }
   ],
   "source": [
    "df.drop(columns=['Name', 'Month']).corr()['Max. sustained winds(mph)'].sort_values(ascending=False)"
   ]
  },
  {
   "cell_type": "markdown",
   "metadata": {},
   "source": [
    "b. With a 5% level of significance test if the “Max. sustained winds(mph)” of hurricane depends on the month of its occurrence."
   ]
  },
  {
   "cell_type": "code",
   "execution_count": 55,
   "metadata": {},
   "outputs": [],
   "source": [
    "model = ols('Q(\"Max. sustained winds(mph)\") ~ C(Month)', data=df).fit()\n",
    "anova_table = sm.stats.anova_lm(model, typ=2)"
   ]
  },
  {
   "cell_type": "code",
   "execution_count": 56,
   "metadata": {},
   "outputs": [
    {
     "data": {
      "text/html": [
       "<div>\n",
       "<style scoped>\n",
       "    .dataframe tbody tr th:only-of-type {\n",
       "        vertical-align: middle;\n",
       "    }\n",
       "\n",
       "    .dataframe tbody tr th {\n",
       "        vertical-align: top;\n",
       "    }\n",
       "\n",
       "    .dataframe thead th {\n",
       "        text-align: right;\n",
       "    }\n",
       "</style>\n",
       "<table border=\"1\" class=\"dataframe\">\n",
       "  <thead>\n",
       "    <tr style=\"text-align: right;\">\n",
       "      <th></th>\n",
       "      <th>sum_sq</th>\n",
       "      <th>df</th>\n",
       "      <th>F</th>\n",
       "      <th>PR(&gt;F)</th>\n",
       "    </tr>\n",
       "  </thead>\n",
       "  <tbody>\n",
       "    <tr>\n",
       "      <th>C(Month)</th>\n",
       "      <td>94.000823</td>\n",
       "      <td>4.0</td>\n",
       "      <td>0.382562</td>\n",
       "      <td>0.820795</td>\n",
       "    </tr>\n",
       "    <tr>\n",
       "      <th>Residual</th>\n",
       "      <td>8108.553922</td>\n",
       "      <td>132.0</td>\n",
       "      <td>NaN</td>\n",
       "      <td>NaN</td>\n",
       "    </tr>\n",
       "  </tbody>\n",
       "</table>\n",
       "</div>"
      ],
      "text/plain": [
       "               sum_sq     df         F    PR(>F)\n",
       "C(Month)    94.000823    4.0  0.382562  0.820795\n",
       "Residual  8108.553922  132.0       NaN       NaN"
      ]
     },
     "execution_count": 56,
     "metadata": {},
     "output_type": "execute_result"
    }
   ],
   "source": [
    "anova_table"
   ]
  },
  {
   "cell_type": "code",
   "execution_count": 57,
   "metadata": {},
   "outputs": [
    {
     "name": "stdout",
     "output_type": "stream",
     "text": [
      "Fail to reject the null hypothesis: Winds do not depend on the month.\n"
     ]
    }
   ],
   "source": [
    "p_value = anova_table['PR(>F)'][0]\n",
    "if p_value < 0.05:\n",
    "    print(\"Reject the null hypothesis: Winds depend on the month.\")\n",
    "else:\n",
    "    print(\"Fail to reject the null hypothesis: Winds do not depend on the month.\")"
   ]
  },
  {
   "cell_type": "markdown",
   "metadata": {},
   "source": [
    "c. With a 10% level of significance conduct test if “Max. sustained winds(mph)” follows a Poisson distribution."
   ]
  },
  {
   "cell_type": "code",
   "execution_count": 58,
   "metadata": {},
   "outputs": [
    {
     "name": "stdout",
     "output_type": "stream",
     "text": [
      "Chi-square statistic: 5.4547959472372565\n",
      "P-value: 0.2437316198723859\n",
      "Fail to reject the null hypothesis: Winds follow a Poisson distribution.\n"
     ]
    }
   ],
   "source": [
    "winds = df['Max. sustained winds(mph)']\n",
    "\n",
    "mean_wind = winds.mean()\n",
    "\n",
    "# Generate observed frequencies (assuming wind speeds are integers)\n",
    "observed_freq = winds.value_counts().sort_index()\n",
    "\n",
    "# Generate Poisson probabilities for the observed values\n",
    "expected_freq = [poisson.pmf(k, mean_wind) for k in observed_freq.index]\n",
    "total = sum(expected_freq)\n",
    "expected_freq =  [poisson.pmf(k, mean_wind)*137/total for k in observed_freq.index]\n",
    "# expected_freq\n",
    "chi_square_stat, p_value = chisquare(f_obs=observed_freq, f_exp=expected_freq)\n",
    "print(f\"Chi-square statistic: {chi_square_stat}\")\n",
    "print(f\"P-value: {p_value}\")\n",
    "\n",
    "# Check significance at 10% level\n",
    "if p_value < 0.10:\n",
    "    print(\"Reject the null hypothesis: Winds do not follow a Poisson distribution.\")\n",
    "else:\n",
    "    print(\"Fail to reject the null hypothesis: Winds follow a Poisson distribution.\")"
   ]
  }
 ],
 "metadata": {
  "kernelspec": {
   "display_name": "base",
   "language": "python",
   "name": "python3"
  },
  "language_info": {
   "codemirror_mode": {
    "name": "ipython",
    "version": 3
   },
   "file_extension": ".py",
   "mimetype": "text/x-python",
   "name": "python",
   "nbconvert_exporter": "python",
   "pygments_lexer": "ipython3",
   "version": "3.11.5"
  }
 },
 "nbformat": 4,
 "nbformat_minor": 2
}
