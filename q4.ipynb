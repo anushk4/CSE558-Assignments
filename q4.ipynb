{
 "cells": [
  {
   "cell_type": "code",
   "execution_count": 126,
   "metadata": {},
   "outputs": [],
   "source": [
    "import pandas as pd\n",
    "import numpy as np\n",
    "from scipy.stats import t, pearsonr\n",
    "import statsmodels.api as sm\n",
    "from statsmodels.formula.api import ols\n",
    "from scipy.stats import chisquare, poisson "
   ]
  },
  {
   "cell_type": "code",
   "execution_count": 127,
   "metadata": {},
   "outputs": [
    {
     "data": {
      "text/html": [
       "<div>\n",
       "<style scoped>\n",
       "    .dataframe tbody tr th:only-of-type {\n",
       "        vertical-align: middle;\n",
       "    }\n",
       "\n",
       "    .dataframe tbody tr th {\n",
       "        vertical-align: top;\n",
       "    }\n",
       "\n",
       "    .dataframe thead th {\n",
       "        text-align: right;\n",
       "    }\n",
       "</style>\n",
       "<table border=\"1\" class=\"dataframe\">\n",
       "  <thead>\n",
       "    <tr style=\"text-align: right;\">\n",
       "      <th></th>\n",
       "      <th>Name</th>\n",
       "      <th>Season</th>\n",
       "      <th>Month</th>\n",
       "      <th>Max. sustained winds(mph)</th>\n",
       "      <th>Minimum pressure(mbar)</th>\n",
       "    </tr>\n",
       "  </thead>\n",
       "  <tbody>\n",
       "    <tr>\n",
       "      <th>0</th>\n",
       "      <td>Hurricane #3</td>\n",
       "      <td>1853</td>\n",
       "      <td>August, September</td>\n",
       "      <td>150</td>\n",
       "      <td>924</td>\n",
       "    </tr>\n",
       "    <tr>\n",
       "      <th>1</th>\n",
       "      <td>\"1856 Last Island Hurricane\"</td>\n",
       "      <td>1856</td>\n",
       "      <td>August</td>\n",
       "      <td>150</td>\n",
       "      <td>934</td>\n",
       "    </tr>\n",
       "    <tr>\n",
       "      <th>2</th>\n",
       "      <td>Hurricane #6</td>\n",
       "      <td>1866</td>\n",
       "      <td>September, October</td>\n",
       "      <td>140</td>\n",
       "      <td>938</td>\n",
       "    </tr>\n",
       "    <tr>\n",
       "      <th>3</th>\n",
       "      <td>Hurricane #7</td>\n",
       "      <td>1878</td>\n",
       "      <td>September, October</td>\n",
       "      <td>140</td>\n",
       "      <td>938</td>\n",
       "    </tr>\n",
       "    <tr>\n",
       "      <th>4</th>\n",
       "      <td>Hurricane #2</td>\n",
       "      <td>1880</td>\n",
       "      <td>August</td>\n",
       "      <td>150</td>\n",
       "      <td>931</td>\n",
       "    </tr>\n",
       "  </tbody>\n",
       "</table>\n",
       "</div>"
      ],
      "text/plain": [
       "                           Name  Season               Month  \\\n",
       "0                  Hurricane #3    1853   August, September   \n",
       "1  \"1856 Last Island Hurricane\"    1856              August   \n",
       "2                  Hurricane #6    1866  September, October   \n",
       "3                  Hurricane #7    1878  September, October   \n",
       "4                  Hurricane #2    1880              August   \n",
       "\n",
       "   Max. sustained winds(mph)  Minimum pressure(mbar)  \n",
       "0                        150                     924  \n",
       "1                        150                     934  \n",
       "2                        140                     938  \n",
       "3                        140                     938  \n",
       "4                        150                     931  "
      ]
     },
     "execution_count": 127,
     "metadata": {},
     "output_type": "execute_result"
    }
   ],
   "source": [
    "df = pd.read_csv('./Datasets/Hurricane.csv')\n",
    "df.head()"
   ]
  },
  {
   "cell_type": "code",
   "execution_count": 128,
   "metadata": {},
   "outputs": [
    {
     "data": {
      "text/plain": [
       "(101, 5)"
      ]
     },
     "execution_count": 128,
     "metadata": {},
     "output_type": "execute_result"
    }
   ],
   "source": [
    "df.shape"
   ]
  },
  {
   "cell_type": "code",
   "execution_count": 129,
   "metadata": {},
   "outputs": [
    {
     "data": {
      "text/html": [
       "<div>\n",
       "<style scoped>\n",
       "    .dataframe tbody tr th:only-of-type {\n",
       "        vertical-align: middle;\n",
       "    }\n",
       "\n",
       "    .dataframe tbody tr th {\n",
       "        vertical-align: top;\n",
       "    }\n",
       "\n",
       "    .dataframe thead th {\n",
       "        text-align: right;\n",
       "    }\n",
       "</style>\n",
       "<table border=\"1\" class=\"dataframe\">\n",
       "  <thead>\n",
       "    <tr style=\"text-align: right;\">\n",
       "      <th></th>\n",
       "      <th>Name</th>\n",
       "      <th>Season</th>\n",
       "      <th>Month</th>\n",
       "      <th>Max. sustained winds(mph)</th>\n",
       "      <th>Minimum pressure(mbar)</th>\n",
       "    </tr>\n",
       "  </thead>\n",
       "  <tbody>\n",
       "    <tr>\n",
       "      <th>0</th>\n",
       "      <td>Hurricane #3</td>\n",
       "      <td>1853</td>\n",
       "      <td>August</td>\n",
       "      <td>150</td>\n",
       "      <td>924</td>\n",
       "    </tr>\n",
       "    <tr>\n",
       "      <th>1</th>\n",
       "      <td>Hurricane #3</td>\n",
       "      <td>1853</td>\n",
       "      <td>September</td>\n",
       "      <td>150</td>\n",
       "      <td>924</td>\n",
       "    </tr>\n",
       "    <tr>\n",
       "      <th>2</th>\n",
       "      <td>\"1856 Last Island Hurricane\"</td>\n",
       "      <td>1856</td>\n",
       "      <td>August</td>\n",
       "      <td>150</td>\n",
       "      <td>934</td>\n",
       "    </tr>\n",
       "    <tr>\n",
       "      <th>3</th>\n",
       "      <td>Hurricane #6</td>\n",
       "      <td>1866</td>\n",
       "      <td>September</td>\n",
       "      <td>140</td>\n",
       "      <td>938</td>\n",
       "    </tr>\n",
       "    <tr>\n",
       "      <th>4</th>\n",
       "      <td>Hurricane #6</td>\n",
       "      <td>1866</td>\n",
       "      <td>October</td>\n",
       "      <td>140</td>\n",
       "      <td>938</td>\n",
       "    </tr>\n",
       "  </tbody>\n",
       "</table>\n",
       "</div>"
      ],
      "text/plain": [
       "                           Name  Season      Month  Max. sustained winds(mph)  \\\n",
       "0                  Hurricane #3    1853     August                        150   \n",
       "1                  Hurricane #3    1853  September                        150   \n",
       "2  \"1856 Last Island Hurricane\"    1856     August                        150   \n",
       "3                  Hurricane #6    1866  September                        140   \n",
       "4                  Hurricane #6    1866    October                        140   \n",
       "\n",
       "   Minimum pressure(mbar)  \n",
       "0                     924  \n",
       "1                     924  \n",
       "2                     934  \n",
       "3                     938  \n",
       "4                     938  "
      ]
     },
     "execution_count": 129,
     "metadata": {},
     "output_type": "execute_result"
    }
   ],
   "source": [
    "df = df.assign(Month=df['Month'].str.split(', ')).explode('Month').reset_index(drop=True)\n",
    "df.head()"
   ]
  },
  {
   "cell_type": "code",
   "execution_count": 130,
   "metadata": {},
   "outputs": [],
   "source": [
    "df_normalize = df.copy()"
   ]
  },
  {
   "cell_type": "code",
   "execution_count": 131,
   "metadata": {},
   "outputs": [
    {
     "data": {
      "text/plain": [
       "(137, 5)"
      ]
     },
     "execution_count": 131,
     "metadata": {},
     "output_type": "execute_result"
    }
   ],
   "source": [
    "df.shape"
   ]
  },
  {
   "cell_type": "code",
   "execution_count": 132,
   "metadata": {},
   "outputs": [
    {
     "data": {
      "text/plain": [
       "(137, 5)"
      ]
     },
     "execution_count": 132,
     "metadata": {},
     "output_type": "execute_result"
    }
   ],
   "source": [
    "df_normalize.shape"
   ]
  },
  {
   "cell_type": "code",
   "execution_count": 133,
   "metadata": {},
   "outputs": [],
   "source": [
    "from sklearn.preprocessing import LabelEncoder"
   ]
  },
  {
   "cell_type": "code",
   "execution_count": 134,
   "metadata": {},
   "outputs": [],
   "source": [
    "# Initialize LabelEncoder\n",
    "label_encoder = LabelEncoder()\n",
    "\n",
    "# Apply LabelEncoder to the 'Month' column\n",
    "df_normalize['Month'] = label_encoder.fit_transform(df_normalize['Month'])"
   ]
  },
  {
   "cell_type": "code",
   "execution_count": 135,
   "metadata": {},
   "outputs": [
    {
     "data": {
      "text/html": [
       "<div>\n",
       "<style scoped>\n",
       "    .dataframe tbody tr th:only-of-type {\n",
       "        vertical-align: middle;\n",
       "    }\n",
       "\n",
       "    .dataframe tbody tr th {\n",
       "        vertical-align: top;\n",
       "    }\n",
       "\n",
       "    .dataframe thead th {\n",
       "        text-align: right;\n",
       "    }\n",
       "</style>\n",
       "<table border=\"1\" class=\"dataframe\">\n",
       "  <thead>\n",
       "    <tr style=\"text-align: right;\">\n",
       "      <th></th>\n",
       "      <th>Name</th>\n",
       "      <th>Season</th>\n",
       "      <th>Month</th>\n",
       "      <th>Max. sustained winds(mph)</th>\n",
       "      <th>Minimum pressure(mbar)</th>\n",
       "    </tr>\n",
       "  </thead>\n",
       "  <tbody>\n",
       "    <tr>\n",
       "      <th>0</th>\n",
       "      <td>Hurricane #3</td>\n",
       "      <td>1853</td>\n",
       "      <td>0</td>\n",
       "      <td>150</td>\n",
       "      <td>924</td>\n",
       "    </tr>\n",
       "    <tr>\n",
       "      <th>1</th>\n",
       "      <td>Hurricane #3</td>\n",
       "      <td>1853</td>\n",
       "      <td>4</td>\n",
       "      <td>150</td>\n",
       "      <td>924</td>\n",
       "    </tr>\n",
       "    <tr>\n",
       "      <th>2</th>\n",
       "      <td>\"1856 Last Island Hurricane\"</td>\n",
       "      <td>1856</td>\n",
       "      <td>0</td>\n",
       "      <td>150</td>\n",
       "      <td>934</td>\n",
       "    </tr>\n",
       "    <tr>\n",
       "      <th>3</th>\n",
       "      <td>Hurricane #6</td>\n",
       "      <td>1866</td>\n",
       "      <td>4</td>\n",
       "      <td>140</td>\n",
       "      <td>938</td>\n",
       "    </tr>\n",
       "    <tr>\n",
       "      <th>4</th>\n",
       "      <td>Hurricane #6</td>\n",
       "      <td>1866</td>\n",
       "      <td>3</td>\n",
       "      <td>140</td>\n",
       "      <td>938</td>\n",
       "    </tr>\n",
       "  </tbody>\n",
       "</table>\n",
       "</div>"
      ],
      "text/plain": [
       "                           Name  Season  Month  Max. sustained winds(mph)  \\\n",
       "0                  Hurricane #3    1853      0                        150   \n",
       "1                  Hurricane #3    1853      4                        150   \n",
       "2  \"1856 Last Island Hurricane\"    1856      0                        150   \n",
       "3                  Hurricane #6    1866      4                        140   \n",
       "4                  Hurricane #6    1866      3                        140   \n",
       "\n",
       "   Minimum pressure(mbar)  \n",
       "0                     924  \n",
       "1                     924  \n",
       "2                     934  \n",
       "3                     938  \n",
       "4                     938  "
      ]
     },
     "execution_count": 135,
     "metadata": {},
     "output_type": "execute_result"
    }
   ],
   "source": [
    "df_normalize.head()"
   ]
  },
  {
   "cell_type": "code",
   "execution_count": 136,
   "metadata": {},
   "outputs": [],
   "source": [
    "def mean_of_data(column):\n",
    "    total = 0\n",
    "    for i in column:\n",
    "        total += i\n",
    "    return total/len(column)\n",
    "\n",
    "def variance_of_data(column):\n",
    "    mean = mean_of_data(column)\n",
    "    total = 0\n",
    "    for i in column:\n",
    "        total += (i - mean)**2\n",
    "    return total/len(column)"
   ]
  },
  {
   "cell_type": "code",
   "execution_count": 137,
   "metadata": {},
   "outputs": [],
   "source": [
    "def normalize_feature():\n",
    "    for column in df_normalize.columns[1:]:\n",
    "        mean = mean_of_data(df_normalize[column])\n",
    "        variance = variance_of_data(df_normalize[column])\n",
    "        standard_dev = variance**0.5\n",
    "        df_normalize[column] = (df_normalize[column] - mean) / standard_dev"
   ]
  },
  {
   "cell_type": "code",
   "execution_count": 138,
   "metadata": {},
   "outputs": [],
   "source": [
    "normalize_feature()"
   ]
  },
  {
   "cell_type": "code",
   "execution_count": 139,
   "metadata": {},
   "outputs": [
    {
     "data": {
      "text/html": [
       "<div>\n",
       "<style scoped>\n",
       "    .dataframe tbody tr th:only-of-type {\n",
       "        vertical-align: middle;\n",
       "    }\n",
       "\n",
       "    .dataframe tbody tr th {\n",
       "        vertical-align: top;\n",
       "    }\n",
       "\n",
       "    .dataframe thead th {\n",
       "        text-align: right;\n",
       "    }\n",
       "</style>\n",
       "<table border=\"1\" class=\"dataframe\">\n",
       "  <thead>\n",
       "    <tr style=\"text-align: right;\">\n",
       "      <th></th>\n",
       "      <th>Name</th>\n",
       "      <th>Season</th>\n",
       "      <th>Month</th>\n",
       "      <th>Max. sustained winds(mph)</th>\n",
       "      <th>Minimum pressure(mbar)</th>\n",
       "    </tr>\n",
       "  </thead>\n",
       "  <tbody>\n",
       "    <tr>\n",
       "      <th>0</th>\n",
       "      <td>Hurricane #3</td>\n",
       "      <td>1853</td>\n",
       "      <td>August</td>\n",
       "      <td>150</td>\n",
       "      <td>924</td>\n",
       "    </tr>\n",
       "    <tr>\n",
       "      <th>1</th>\n",
       "      <td>Hurricane #3</td>\n",
       "      <td>1853</td>\n",
       "      <td>September</td>\n",
       "      <td>150</td>\n",
       "      <td>924</td>\n",
       "    </tr>\n",
       "    <tr>\n",
       "      <th>2</th>\n",
       "      <td>\"1856 Last Island Hurricane\"</td>\n",
       "      <td>1856</td>\n",
       "      <td>August</td>\n",
       "      <td>150</td>\n",
       "      <td>934</td>\n",
       "    </tr>\n",
       "    <tr>\n",
       "      <th>3</th>\n",
       "      <td>Hurricane #6</td>\n",
       "      <td>1866</td>\n",
       "      <td>September</td>\n",
       "      <td>140</td>\n",
       "      <td>938</td>\n",
       "    </tr>\n",
       "    <tr>\n",
       "      <th>4</th>\n",
       "      <td>Hurricane #6</td>\n",
       "      <td>1866</td>\n",
       "      <td>October</td>\n",
       "      <td>140</td>\n",
       "      <td>938</td>\n",
       "    </tr>\n",
       "    <tr>\n",
       "      <th>...</th>\n",
       "      <td>...</td>\n",
       "      <td>...</td>\n",
       "      <td>...</td>\n",
       "      <td>...</td>\n",
       "      <td>...</td>\n",
       "    </tr>\n",
       "    <tr>\n",
       "      <th>132</th>\n",
       "      <td>Hurricane Fabian</td>\n",
       "      <td>2003</td>\n",
       "      <td>September</td>\n",
       "      <td>145</td>\n",
       "      <td>939</td>\n",
       "    </tr>\n",
       "    <tr>\n",
       "      <th>133</th>\n",
       "      <td>Hurricane Charley</td>\n",
       "      <td>2004</td>\n",
       "      <td>August</td>\n",
       "      <td>150</td>\n",
       "      <td>941</td>\n",
       "    </tr>\n",
       "    <tr>\n",
       "      <th>134</th>\n",
       "      <td>Hurricane Frances</td>\n",
       "      <td>2004</td>\n",
       "      <td>August</td>\n",
       "      <td>145</td>\n",
       "      <td>935</td>\n",
       "    </tr>\n",
       "    <tr>\n",
       "      <th>135</th>\n",
       "      <td>Hurricane Frances</td>\n",
       "      <td>2004</td>\n",
       "      <td>September</td>\n",
       "      <td>145</td>\n",
       "      <td>935</td>\n",
       "    </tr>\n",
       "    <tr>\n",
       "      <th>136</th>\n",
       "      <td>Hurricane Karl</td>\n",
       "      <td>2004</td>\n",
       "      <td>September</td>\n",
       "      <td>145</td>\n",
       "      <td>938</td>\n",
       "    </tr>\n",
       "  </tbody>\n",
       "</table>\n",
       "<p>137 rows × 5 columns</p>\n",
       "</div>"
      ],
      "text/plain": [
       "                             Name  Season      Month  \\\n",
       "0                    Hurricane #3    1853     August   \n",
       "1                    Hurricane #3    1853  September   \n",
       "2    \"1856 Last Island Hurricane\"    1856     August   \n",
       "3                    Hurricane #6    1866  September   \n",
       "4                    Hurricane #6    1866    October   \n",
       "..                            ...     ...        ...   \n",
       "132              Hurricane Fabian    2003  September   \n",
       "133             Hurricane Charley    2004     August   \n",
       "134             Hurricane Frances    2004     August   \n",
       "135             Hurricane Frances    2004  September   \n",
       "136                Hurricane Karl    2004  September   \n",
       "\n",
       "     Max. sustained winds(mph)  Minimum pressure(mbar)  \n",
       "0                          150                     924  \n",
       "1                          150                     924  \n",
       "2                          150                     934  \n",
       "3                          140                     938  \n",
       "4                          140                     938  \n",
       "..                         ...                     ...  \n",
       "132                        145                     939  \n",
       "133                        150                     941  \n",
       "134                        145                     935  \n",
       "135                        145                     935  \n",
       "136                        145                     938  \n",
       "\n",
       "[137 rows x 5 columns]"
      ]
     },
     "execution_count": 139,
     "metadata": {},
     "output_type": "execute_result"
    }
   ],
   "source": [
    "df"
   ]
  },
  {
   "cell_type": "code",
   "execution_count": 140,
   "metadata": {},
   "outputs": [
    {
     "data": {
      "text/html": [
       "<div>\n",
       "<style scoped>\n",
       "    .dataframe tbody tr th:only-of-type {\n",
       "        vertical-align: middle;\n",
       "    }\n",
       "\n",
       "    .dataframe tbody tr th {\n",
       "        vertical-align: top;\n",
       "    }\n",
       "\n",
       "    .dataframe thead th {\n",
       "        text-align: right;\n",
       "    }\n",
       "</style>\n",
       "<table border=\"1\" class=\"dataframe\">\n",
       "  <thead>\n",
       "    <tr style=\"text-align: right;\">\n",
       "      <th></th>\n",
       "      <th>Name</th>\n",
       "      <th>Season</th>\n",
       "      <th>Month</th>\n",
       "      <th>Max. sustained winds(mph)</th>\n",
       "      <th>Minimum pressure(mbar)</th>\n",
       "    </tr>\n",
       "  </thead>\n",
       "  <tbody>\n",
       "    <tr>\n",
       "      <th>0</th>\n",
       "      <td>Hurricane #3</td>\n",
       "      <td>-2.471014</td>\n",
       "      <td>-1.623394</td>\n",
       "      <td>0.990500</td>\n",
       "      <td>-1.487932</td>\n",
       "    </tr>\n",
       "    <tr>\n",
       "      <th>1</th>\n",
       "      <td>Hurricane #3</td>\n",
       "      <td>-2.471014</td>\n",
       "      <td>0.787500</td>\n",
       "      <td>0.990500</td>\n",
       "      <td>-1.487932</td>\n",
       "    </tr>\n",
       "    <tr>\n",
       "      <th>2</th>\n",
       "      <td>\"1856 Last Island Hurricane\"</td>\n",
       "      <td>-2.395179</td>\n",
       "      <td>-1.623394</td>\n",
       "      <td>0.990500</td>\n",
       "      <td>-0.482771</td>\n",
       "    </tr>\n",
       "    <tr>\n",
       "      <th>3</th>\n",
       "      <td>Hurricane #6</td>\n",
       "      <td>-2.142394</td>\n",
       "      <td>0.787500</td>\n",
       "      <td>-0.301867</td>\n",
       "      <td>-0.080706</td>\n",
       "    </tr>\n",
       "    <tr>\n",
       "      <th>4</th>\n",
       "      <td>Hurricane #6</td>\n",
       "      <td>-2.142394</td>\n",
       "      <td>0.184777</td>\n",
       "      <td>-0.301867</td>\n",
       "      <td>-0.080706</td>\n",
       "    </tr>\n",
       "    <tr>\n",
       "      <th>...</th>\n",
       "      <td>...</td>\n",
       "      <td>...</td>\n",
       "      <td>...</td>\n",
       "      <td>...</td>\n",
       "      <td>...</td>\n",
       "    </tr>\n",
       "    <tr>\n",
       "      <th>132</th>\n",
       "      <td>Hurricane Fabian</td>\n",
       "      <td>1.320753</td>\n",
       "      <td>0.787500</td>\n",
       "      <td>0.344317</td>\n",
       "      <td>0.019810</td>\n",
       "    </tr>\n",
       "    <tr>\n",
       "      <th>133</th>\n",
       "      <td>Hurricane Charley</td>\n",
       "      <td>1.346031</td>\n",
       "      <td>-1.623394</td>\n",
       "      <td>0.990500</td>\n",
       "      <td>0.220842</td>\n",
       "    </tr>\n",
       "    <tr>\n",
       "      <th>134</th>\n",
       "      <td>Hurricane Frances</td>\n",
       "      <td>1.346031</td>\n",
       "      <td>-1.623394</td>\n",
       "      <td>0.344317</td>\n",
       "      <td>-0.382255</td>\n",
       "    </tr>\n",
       "    <tr>\n",
       "      <th>135</th>\n",
       "      <td>Hurricane Frances</td>\n",
       "      <td>1.346031</td>\n",
       "      <td>0.787500</td>\n",
       "      <td>0.344317</td>\n",
       "      <td>-0.382255</td>\n",
       "    </tr>\n",
       "    <tr>\n",
       "      <th>136</th>\n",
       "      <td>Hurricane Karl</td>\n",
       "      <td>1.346031</td>\n",
       "      <td>0.787500</td>\n",
       "      <td>0.344317</td>\n",
       "      <td>-0.080706</td>\n",
       "    </tr>\n",
       "  </tbody>\n",
       "</table>\n",
       "<p>137 rows × 5 columns</p>\n",
       "</div>"
      ],
      "text/plain": [
       "                             Name    Season     Month  \\\n",
       "0                    Hurricane #3 -2.471014 -1.623394   \n",
       "1                    Hurricane #3 -2.471014  0.787500   \n",
       "2    \"1856 Last Island Hurricane\" -2.395179 -1.623394   \n",
       "3                    Hurricane #6 -2.142394  0.787500   \n",
       "4                    Hurricane #6 -2.142394  0.184777   \n",
       "..                            ...       ...       ...   \n",
       "132              Hurricane Fabian  1.320753  0.787500   \n",
       "133             Hurricane Charley  1.346031 -1.623394   \n",
       "134             Hurricane Frances  1.346031 -1.623394   \n",
       "135             Hurricane Frances  1.346031  0.787500   \n",
       "136                Hurricane Karl  1.346031  0.787500   \n",
       "\n",
       "     Max. sustained winds(mph)  Minimum pressure(mbar)  \n",
       "0                     0.990500               -1.487932  \n",
       "1                     0.990500               -1.487932  \n",
       "2                     0.990500               -0.482771  \n",
       "3                    -0.301867               -0.080706  \n",
       "4                    -0.301867               -0.080706  \n",
       "..                         ...                     ...  \n",
       "132                   0.344317                0.019810  \n",
       "133                   0.990500                0.220842  \n",
       "134                   0.344317               -0.382255  \n",
       "135                   0.344317               -0.382255  \n",
       "136                   0.344317               -0.080706  \n",
       "\n",
       "[137 rows x 5 columns]"
      ]
     },
     "execution_count": 140,
     "metadata": {},
     "output_type": "execute_result"
    }
   ],
   "source": [
    "df_normalize"
   ]
  },
  {
   "cell_type": "markdown",
   "metadata": {},
   "source": [
    "a. With a 1% level of significance conduct t-test for correlation coefficient between “Max. sustained winds(mph)” and “Minimum pressure (mbar)”."
   ]
  },
  {
   "cell_type": "code",
   "execution_count": 141,
   "metadata": {},
   "outputs": [
    {
     "data": {
      "text/html": [
       "<div>\n",
       "<style scoped>\n",
       "    .dataframe tbody tr th:only-of-type {\n",
       "        vertical-align: middle;\n",
       "    }\n",
       "\n",
       "    .dataframe tbody tr th {\n",
       "        vertical-align: top;\n",
       "    }\n",
       "\n",
       "    .dataframe thead th {\n",
       "        text-align: right;\n",
       "    }\n",
       "</style>\n",
       "<table border=\"1\" class=\"dataframe\">\n",
       "  <thead>\n",
       "    <tr style=\"text-align: right;\">\n",
       "      <th></th>\n",
       "      <th>Name</th>\n",
       "      <th>Season</th>\n",
       "      <th>Month</th>\n",
       "      <th>Max. sustained winds(mph)</th>\n",
       "      <th>Minimum pressure(mbar)</th>\n",
       "    </tr>\n",
       "  </thead>\n",
       "  <tbody>\n",
       "    <tr>\n",
       "      <th>0</th>\n",
       "      <td>Hurricane #3</td>\n",
       "      <td>-2.471014</td>\n",
       "      <td>-1.623394</td>\n",
       "      <td>0.990500</td>\n",
       "      <td>-1.487932</td>\n",
       "    </tr>\n",
       "    <tr>\n",
       "      <th>1</th>\n",
       "      <td>Hurricane #3</td>\n",
       "      <td>-2.471014</td>\n",
       "      <td>0.787500</td>\n",
       "      <td>0.990500</td>\n",
       "      <td>-1.487932</td>\n",
       "    </tr>\n",
       "    <tr>\n",
       "      <th>2</th>\n",
       "      <td>\"1856 Last Island Hurricane\"</td>\n",
       "      <td>-2.395179</td>\n",
       "      <td>-1.623394</td>\n",
       "      <td>0.990500</td>\n",
       "      <td>-0.482771</td>\n",
       "    </tr>\n",
       "    <tr>\n",
       "      <th>3</th>\n",
       "      <td>Hurricane #6</td>\n",
       "      <td>-2.142394</td>\n",
       "      <td>0.787500</td>\n",
       "      <td>-0.301867</td>\n",
       "      <td>-0.080706</td>\n",
       "    </tr>\n",
       "    <tr>\n",
       "      <th>4</th>\n",
       "      <td>Hurricane #6</td>\n",
       "      <td>-2.142394</td>\n",
       "      <td>0.184777</td>\n",
       "      <td>-0.301867</td>\n",
       "      <td>-0.080706</td>\n",
       "    </tr>\n",
       "    <tr>\n",
       "      <th>...</th>\n",
       "      <td>...</td>\n",
       "      <td>...</td>\n",
       "      <td>...</td>\n",
       "      <td>...</td>\n",
       "      <td>...</td>\n",
       "    </tr>\n",
       "    <tr>\n",
       "      <th>132</th>\n",
       "      <td>Hurricane Fabian</td>\n",
       "      <td>1.320753</td>\n",
       "      <td>0.787500</td>\n",
       "      <td>0.344317</td>\n",
       "      <td>0.019810</td>\n",
       "    </tr>\n",
       "    <tr>\n",
       "      <th>133</th>\n",
       "      <td>Hurricane Charley</td>\n",
       "      <td>1.346031</td>\n",
       "      <td>-1.623394</td>\n",
       "      <td>0.990500</td>\n",
       "      <td>0.220842</td>\n",
       "    </tr>\n",
       "    <tr>\n",
       "      <th>134</th>\n",
       "      <td>Hurricane Frances</td>\n",
       "      <td>1.346031</td>\n",
       "      <td>-1.623394</td>\n",
       "      <td>0.344317</td>\n",
       "      <td>-0.382255</td>\n",
       "    </tr>\n",
       "    <tr>\n",
       "      <th>135</th>\n",
       "      <td>Hurricane Frances</td>\n",
       "      <td>1.346031</td>\n",
       "      <td>0.787500</td>\n",
       "      <td>0.344317</td>\n",
       "      <td>-0.382255</td>\n",
       "    </tr>\n",
       "    <tr>\n",
       "      <th>136</th>\n",
       "      <td>Hurricane Karl</td>\n",
       "      <td>1.346031</td>\n",
       "      <td>0.787500</td>\n",
       "      <td>0.344317</td>\n",
       "      <td>-0.080706</td>\n",
       "    </tr>\n",
       "  </tbody>\n",
       "</table>\n",
       "<p>137 rows × 5 columns</p>\n",
       "</div>"
      ],
      "text/plain": [
       "                             Name    Season     Month  \\\n",
       "0                    Hurricane #3 -2.471014 -1.623394   \n",
       "1                    Hurricane #3 -2.471014  0.787500   \n",
       "2    \"1856 Last Island Hurricane\" -2.395179 -1.623394   \n",
       "3                    Hurricane #6 -2.142394  0.787500   \n",
       "4                    Hurricane #6 -2.142394  0.184777   \n",
       "..                            ...       ...       ...   \n",
       "132              Hurricane Fabian  1.320753  0.787500   \n",
       "133             Hurricane Charley  1.346031 -1.623394   \n",
       "134             Hurricane Frances  1.346031 -1.623394   \n",
       "135             Hurricane Frances  1.346031  0.787500   \n",
       "136                Hurricane Karl  1.346031  0.787500   \n",
       "\n",
       "     Max. sustained winds(mph)  Minimum pressure(mbar)  \n",
       "0                     0.990500               -1.487932  \n",
       "1                     0.990500               -1.487932  \n",
       "2                     0.990500               -0.482771  \n",
       "3                    -0.301867               -0.080706  \n",
       "4                    -0.301867               -0.080706  \n",
       "..                         ...                     ...  \n",
       "132                   0.344317                0.019810  \n",
       "133                   0.990500                0.220842  \n",
       "134                   0.344317               -0.382255  \n",
       "135                   0.344317               -0.382255  \n",
       "136                   0.344317               -0.080706  \n",
       "\n",
       "[137 rows x 5 columns]"
      ]
     },
     "execution_count": 141,
     "metadata": {},
     "output_type": "execute_result"
    }
   ],
   "source": [
    "df_normalize"
   ]
  },
  {
   "cell_type": "code",
   "execution_count": 142,
   "metadata": {},
   "outputs": [
    {
     "data": {
      "text/plain": [
       "-6.067728544364718"
      ]
     },
     "execution_count": 142,
     "metadata": {},
     "output_type": "execute_result"
    }
   ],
   "source": [
    "alpha = 0.01\n",
    "n = df_normalize.shape[0]\n",
    "r = np.corrcoef(df_normalize[\"Max. sustained winds(mph)\"], df_normalize[\"Minimum pressure(mbar)\"])[0, 1]\n",
    "t_value = r / np.sqrt((1 - r**2) / (n - 2))\n",
    "t_value"
   ]
  },
  {
   "cell_type": "code",
   "execution_count": 143,
   "metadata": {},
   "outputs": [
    {
     "data": {
      "text/plain": [
       "1.230390463474083e-08"
      ]
     },
     "execution_count": 143,
     "metadata": {},
     "output_type": "execute_result"
    }
   ],
   "source": [
    "# Calculate degrees of freedom\n",
    "degrees = n - 2\n",
    "\n",
    "# Two-tailed p-value\n",
    "p_value = 2 * t.cdf(-np.abs(t_value), degrees)\n",
    "p_value"
   ]
  },
  {
   "cell_type": "code",
   "execution_count": 144,
   "metadata": {},
   "outputs": [
    {
     "data": {
      "text/plain": [
       "True"
      ]
     },
     "execution_count": 144,
     "metadata": {},
     "output_type": "execute_result"
    }
   ],
   "source": [
    "p_value < alpha"
   ]
  },
  {
   "cell_type": "code",
   "execution_count": 145,
   "metadata": {},
   "outputs": [
    {
     "data": {
      "text/plain": [
       "-6.067728544364715"
      ]
     },
     "execution_count": 145,
     "metadata": {},
     "output_type": "execute_result"
    }
   ],
   "source": [
    "alpha = 0.01\n",
    "n = df.shape[0]\n",
    "r = np.corrcoef(df[\"Max. sustained winds(mph)\"], df[\"Minimum pressure(mbar)\"])[0, 1]\n",
    "t_value = r / np.sqrt((1 - r**2) / (n - 2))\n",
    "t_value"
   ]
  },
  {
   "cell_type": "code",
   "execution_count": 146,
   "metadata": {},
   "outputs": [
    {
     "data": {
      "text/plain": [
       "1.2303904634741104e-08"
      ]
     },
     "execution_count": 146,
     "metadata": {},
     "output_type": "execute_result"
    }
   ],
   "source": [
    "# Calculate degrees of freedom\n",
    "degrees = n - 2\n",
    "\n",
    "# Two-tailed p-value\n",
    "p_value2 = 2 * t.cdf(-np.abs(t_value), degrees)\n",
    "p_value2"
   ]
  },
  {
   "cell_type": "code",
   "execution_count": 147,
   "metadata": {},
   "outputs": [
    {
     "data": {
      "text/plain": [
       "PearsonRResult(statistic=-0.4629058408860275, pvalue=1.2303904634740368e-08)"
      ]
     },
     "execution_count": 147,
     "metadata": {},
     "output_type": "execute_result"
    }
   ],
   "source": [
    "test_result = pearsonr(df[\"Max. sustained winds(mph)\"], df[\"Minimum pressure(mbar)\"])\n",
    "test_result"
   ]
  },
  {
   "cell_type": "code",
   "execution_count": 148,
   "metadata": {},
   "outputs": [
    {
     "data": {
      "text/plain": [
       "1.2303904634740368e-08"
      ]
     },
     "execution_count": 148,
     "metadata": {},
     "output_type": "execute_result"
    }
   ],
   "source": [
    "test_result.pvalue"
   ]
  },
  {
   "cell_type": "code",
   "execution_count": 149,
   "metadata": {},
   "outputs": [
    {
     "data": {
      "text/plain": [
       "ConfidenceInterval(low=-0.5851892925012572, high=-0.3200368904005092)"
      ]
     },
     "execution_count": 149,
     "metadata": {},
     "output_type": "execute_result"
    }
   ],
   "source": [
    "test_result.confidence_interval()"
   ]
  },
  {
   "cell_type": "code",
   "execution_count": 150,
   "metadata": {},
   "outputs": [
    {
     "name": "stdout",
     "output_type": "stream",
     "text": [
      "Pearson correlation: -0.4629058408860275\n",
      "P-value: 1.2303904634740368e-08\n",
      "Reject the null hypothesis: Significant correlation.\n"
     ]
    }
   ],
   "source": [
    "# Extract relevant columns\n",
    "winds = df['Max. sustained winds(mph)']\n",
    "pressure = df['Minimum pressure(mbar)']\n",
    "\n",
    "# Calculate Pearson correlation\n",
    "correlation, p_value = pearsonr(winds, pressure)\n",
    "\n",
    "# Display the result\n",
    "print(f\"Pearson correlation: {correlation}\")\n",
    "print(f\"P-value: {p_value}\")\n",
    "\n",
    "# Test the significance at 1% level\n",
    "if p_value < 0.01:\n",
    "    print(\"Reject the null hypothesis: Significant correlation.\")\n",
    "else:\n",
    "    print(\"Fail to reject the null hypothesis: No significant correlation.\")\n"
   ]
  },
  {
   "cell_type": "code",
   "execution_count": 151,
   "metadata": {},
   "outputs": [
    {
     "data": {
      "text/plain": [
       "Max. sustained winds(mph)    1.000000\n",
       "Season                       0.066874\n",
       "Minimum pressure(mbar)      -0.462906\n",
       "Name: Max. sustained winds(mph), dtype: float64"
      ]
     },
     "execution_count": 151,
     "metadata": {},
     "output_type": "execute_result"
    }
   ],
   "source": [
    "df.drop(columns=['Name', 'Month']).corr()['Max. sustained winds(mph)'].sort_values(ascending=False)"
   ]
  },
  {
   "cell_type": "markdown",
   "metadata": {},
   "source": [
    "b. With a 5% level of significance test if the “Max. sustained winds(mph)” of hurricane depends on the month of its occurrence."
   ]
  },
  {
   "cell_type": "code",
   "execution_count": 152,
   "metadata": {},
   "outputs": [
    {
     "name": "stdout",
     "output_type": "stream",
     "text": [
      "Pearson correlation: -0.06362164333733303\n",
      "P-value: 0.4601512540636204\n",
      "Fail to reject the null hypothesis: No significant correlation.\n"
     ]
    }
   ],
   "source": [
    "# Extract relevant columns\n",
    "winds = df_normalize['Max. sustained winds(mph)']\n",
    "month = df_normalize['Month']\n",
    "\n",
    "# Calculate Pearson correlation\n",
    "correlation, p_value = pearsonr(winds, month)\n",
    "\n",
    "# Display the result\n",
    "print(f\"Pearson correlation: {correlation}\")\n",
    "print(f\"P-value: {p_value}\")\n",
    "\n",
    "# Test the significance at 1% level\n",
    "if p_value < 0.05:\n",
    "    print(\"Reject the null hypothesis: Significant correlation.\")\n",
    "else:\n",
    "    print(\"Fail to reject the null hypothesis: No significant correlation.\")\n"
   ]
  },
  {
   "cell_type": "code",
   "execution_count": 153,
   "metadata": {},
   "outputs": [],
   "source": [
    "model = ols('Q(\"Max. sustained winds(mph)\") ~ C(Month)', data=df).fit()\n",
    "anova_table = sm.stats.anova_lm(model, typ=2)"
   ]
  },
  {
   "cell_type": "code",
   "execution_count": 154,
   "metadata": {},
   "outputs": [
    {
     "data": {
      "text/html": [
       "<div>\n",
       "<style scoped>\n",
       "    .dataframe tbody tr th:only-of-type {\n",
       "        vertical-align: middle;\n",
       "    }\n",
       "\n",
       "    .dataframe tbody tr th {\n",
       "        vertical-align: top;\n",
       "    }\n",
       "\n",
       "    .dataframe thead th {\n",
       "        text-align: right;\n",
       "    }\n",
       "</style>\n",
       "<table border=\"1\" class=\"dataframe\">\n",
       "  <thead>\n",
       "    <tr style=\"text-align: right;\">\n",
       "      <th></th>\n",
       "      <th>sum_sq</th>\n",
       "      <th>df</th>\n",
       "      <th>F</th>\n",
       "      <th>PR(&gt;F)</th>\n",
       "    </tr>\n",
       "  </thead>\n",
       "  <tbody>\n",
       "    <tr>\n",
       "      <th>C(Month)</th>\n",
       "      <td>94.000823</td>\n",
       "      <td>4.0</td>\n",
       "      <td>0.382562</td>\n",
       "      <td>0.820795</td>\n",
       "    </tr>\n",
       "    <tr>\n",
       "      <th>Residual</th>\n",
       "      <td>8108.553922</td>\n",
       "      <td>132.0</td>\n",
       "      <td>NaN</td>\n",
       "      <td>NaN</td>\n",
       "    </tr>\n",
       "  </tbody>\n",
       "</table>\n",
       "</div>"
      ],
      "text/plain": [
       "               sum_sq     df         F    PR(>F)\n",
       "C(Month)    94.000823    4.0  0.382562  0.820795\n",
       "Residual  8108.553922  132.0       NaN       NaN"
      ]
     },
     "execution_count": 154,
     "metadata": {},
     "output_type": "execute_result"
    }
   ],
   "source": [
    "anova_table"
   ]
  },
  {
   "cell_type": "code",
   "execution_count": 155,
   "metadata": {},
   "outputs": [
    {
     "name": "stdout",
     "output_type": "stream",
     "text": [
      "0.8207947187971213\n",
      "Fail to reject the null hypothesis: Winds do not depend on the month.\n"
     ]
    }
   ],
   "source": [
    "p_value = anova_table['PR(>F)'][0]\n",
    "print(p_value)\n",
    "if p_value < 0.05:\n",
    "    print(\"Reject the null hypothesis: Winds depend on the month.\")\n",
    "else:\n",
    "    print(\"Fail to reject the null hypothesis: Winds do not depend on the month.\")"
   ]
  },
  {
   "cell_type": "markdown",
   "metadata": {},
   "source": [
    "c. With a 10% level of significance conduct test if “Max. sustained winds(mph)” follows a Poisson distribution."
   ]
  },
  {
   "cell_type": "code",
   "execution_count": 156,
   "metadata": {},
   "outputs": [
    {
     "data": {
      "text/plain": [
       "(137, 5)"
      ]
     },
     "execution_count": 156,
     "metadata": {},
     "output_type": "execute_result"
    }
   ],
   "source": [
    "df.shape"
   ]
  },
  {
   "cell_type": "code",
   "execution_count": 157,
   "metadata": {},
   "outputs": [
    {
     "data": {
      "text/html": [
       "<div>\n",
       "<style scoped>\n",
       "    .dataframe tbody tr th:only-of-type {\n",
       "        vertical-align: middle;\n",
       "    }\n",
       "\n",
       "    .dataframe tbody tr th {\n",
       "        vertical-align: top;\n",
       "    }\n",
       "\n",
       "    .dataframe thead th {\n",
       "        text-align: right;\n",
       "    }\n",
       "</style>\n",
       "<table border=\"1\" class=\"dataframe\">\n",
       "  <thead>\n",
       "    <tr style=\"text-align: right;\">\n",
       "      <th></th>\n",
       "      <th>Name</th>\n",
       "      <th>Season</th>\n",
       "      <th>Month</th>\n",
       "      <th>Max. sustained winds(mph)</th>\n",
       "      <th>Minimum pressure(mbar)</th>\n",
       "    </tr>\n",
       "  </thead>\n",
       "  <tbody>\n",
       "    <tr>\n",
       "      <th>0</th>\n",
       "      <td>Hurricane #3</td>\n",
       "      <td>1853</td>\n",
       "      <td>August</td>\n",
       "      <td>150</td>\n",
       "      <td>924</td>\n",
       "    </tr>\n",
       "    <tr>\n",
       "      <th>1</th>\n",
       "      <td>Hurricane #3</td>\n",
       "      <td>1853</td>\n",
       "      <td>September</td>\n",
       "      <td>150</td>\n",
       "      <td>924</td>\n",
       "    </tr>\n",
       "    <tr>\n",
       "      <th>2</th>\n",
       "      <td>\"1856 Last Island Hurricane\"</td>\n",
       "      <td>1856</td>\n",
       "      <td>August</td>\n",
       "      <td>150</td>\n",
       "      <td>934</td>\n",
       "    </tr>\n",
       "    <tr>\n",
       "      <th>3</th>\n",
       "      <td>Hurricane #6</td>\n",
       "      <td>1866</td>\n",
       "      <td>September</td>\n",
       "      <td>140</td>\n",
       "      <td>938</td>\n",
       "    </tr>\n",
       "    <tr>\n",
       "      <th>4</th>\n",
       "      <td>Hurricane #6</td>\n",
       "      <td>1866</td>\n",
       "      <td>October</td>\n",
       "      <td>140</td>\n",
       "      <td>938</td>\n",
       "    </tr>\n",
       "  </tbody>\n",
       "</table>\n",
       "</div>"
      ],
      "text/plain": [
       "                           Name  Season      Month  Max. sustained winds(mph)  \\\n",
       "0                  Hurricane #3    1853     August                        150   \n",
       "1                  Hurricane #3    1853  September                        150   \n",
       "2  \"1856 Last Island Hurricane\"    1856     August                        150   \n",
       "3                  Hurricane #6    1866  September                        140   \n",
       "4                  Hurricane #6    1866    October                        140   \n",
       "\n",
       "   Minimum pressure(mbar)  \n",
       "0                     924  \n",
       "1                     924  \n",
       "2                     934  \n",
       "3                     938  \n",
       "4                     938  "
      ]
     },
     "execution_count": 157,
     "metadata": {},
     "output_type": "execute_result"
    }
   ],
   "source": [
    "df.head()"
   ]
  },
  {
   "cell_type": "code",
   "execution_count": 158,
   "metadata": {},
   "outputs": [
    {
     "name": "stdout",
     "output_type": "stream",
     "text": [
      "Chi-square statistic: 5.4547959472372565\n",
      "P-value: 0.2437316198723859\n",
      "Fail to reject the null hypothesis: Winds follow a Poisson distribution.\n"
     ]
    }
   ],
   "source": [
    "winds = df['Max. sustained winds(mph)']\n",
    "\n",
    "mean_wind = winds.mean()\n",
    "\n",
    "# Generate observed frequencies (assuming wind speeds are integers)\n",
    "observed_freq = winds.value_counts().sort_index()\n",
    "\n",
    "# Generate Poisson probabilities for the observed values\n",
    "expected_freq = [poisson.pmf(k, mean_wind) for k in observed_freq.index]\n",
    "total = sum(expected_freq)\n",
    "expected_freq =  [poisson.pmf(k, mean_wind)*137/total for k in observed_freq.index]\n",
    "# expected_freq\n",
    "chi_square_stat, p_value = chisquare(f_obs=observed_freq, f_exp=expected_freq)\n",
    "\n",
    "print(f\"Chi-square statistic: {chi_square_stat}\")\n",
    "print(f\"P-value: {p_value}\")\n",
    "\n",
    "# Check significance at 10% level\n",
    "if p_value < 0.10:\n",
    "    print(\"Reject the null hypothesis: Winds do not follow a Poisson distribution.\")\n",
    "else:\n",
    "    print(\"Fail to reject the null hypothesis: Winds follow a Poisson distribution.\")"
   ]
  }
 ],
 "metadata": {
  "kernelspec": {
   "display_name": "base",
   "language": "python",
   "name": "python3"
  },
  "language_info": {
   "codemirror_mode": {
    "name": "ipython",
    "version": 3
   },
   "file_extension": ".py",
   "mimetype": "text/x-python",
   "name": "python",
   "nbconvert_exporter": "python",
   "pygments_lexer": "ipython3",
   "version": "3.11.3"
  }
 },
 "nbformat": 4,
 "nbformat_minor": 2
}
