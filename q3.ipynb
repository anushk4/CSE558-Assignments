{
 "cells": [
  {
   "cell_type": "code",
   "execution_count": 29,
   "metadata": {},
   "outputs": [],
   "source": [
    "import itertools"
   ]
  },
  {
   "cell_type": "code",
   "execution_count": 30,
   "metadata": {},
   "outputs": [],
   "source": [
    "def p(i, k):\n",
    "    if i == 1 or i == k:\n",
    "        return 1 / (2**(k - 1))\n",
    "    return 1 / (2**(i - 1))"
   ]
  },
  {
   "cell_type": "code",
   "execution_count": 31,
   "metadata": {},
   "outputs": [],
   "source": [
    "def expected_rolls(probabilities):\n",
    "    k = len(probabilities)\n",
    "    expected_value = 1\n",
    "\n",
    "    for s in range(1, k):\n",
    "        sum_term = 0\n",
    "        print(list(itertools.permutations(range(k), s)))\n",
    "        for comb in itertools.permutations(range(k), s):\n",
    "            prob_comb = 1\n",
    "            for idx in comb:\n",
    "                prob_comb *= probabilities[idx]\n",
    "            remaining_prob = 1\n",
    "            term = 1\n",
    "            for idx in comb:\n",
    "                term -= probabilities[idx]\n",
    "                remaining_prob *= term\n",
    "            sum_term += prob_comb / remaining_prob    \n",
    "        expected_value += sum_term\n",
    "    \n",
    "    return expected_value"
   ]
  },
  {
   "cell_type": "code",
   "execution_count": 32,
   "metadata": {},
   "outputs": [
    {
     "name": "stdout",
     "output_type": "stream",
     "text": [
      "[0.25, 0.5, 0.25]\n",
      "[(0,), (1,), (2,)]\n",
      "0.3333333333333333\n",
      "1.3333333333333333\n",
      "1.6666666666666665\n",
      "[(0, 1), (0, 2), (1, 0), (1, 2), (2, 0), (2, 1)]\n",
      "0.6666666666666666\n",
      "0.8333333333333333\n",
      "1.8333333333333333\n",
      "2.833333333333333\n",
      "2.9999999999999996\n",
      "3.666666666666666\n",
      "The expected number of rolls is 6.333333333333332\n"
     ]
    }
   ],
   "source": [
    "k = 3\n",
    "probabilities = [p(i, k) for i in range(1, k + 1)]\n",
    "print(probabilities)\n",
    "print(f\"The expected number of rolls is {expected_rolls(probabilities)}\")"
   ]
  }
 ],
 "metadata": {
  "kernelspec": {
   "display_name": "base",
   "language": "python",
   "name": "python3"
  },
  "language_info": {
   "codemirror_mode": {
    "name": "ipython",
    "version": 3
   },
   "file_extension": ".py",
   "mimetype": "text/x-python",
   "name": "python",
   "nbconvert_exporter": "python",
   "pygments_lexer": "ipython3",
   "version": "3.11.5"
  }
 },
 "nbformat": 4,
 "nbformat_minor": 2
}
